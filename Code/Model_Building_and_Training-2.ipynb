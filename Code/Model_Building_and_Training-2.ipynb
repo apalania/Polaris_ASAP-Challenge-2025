{
  "nbformat": 4,
  "nbformat_minor": 0,
  "metadata": {
    "colab": {
      "name": "Model Building and Training.ipynb",
      "provenance": []
    },
    "kernelspec": {
      "name": "python3",
      "display_name": "Python 3"
    },
    "language_info": {
      "name": "python"
    }
  },
  "cells": [
    {
      "cell_type": "code",
      "execution_count": null,
      "metadata": {
        "colab": {
          "base_uri": "https://localhost:8080/"
        },
        "id": "KMIcT6uGgWAs",
        "outputId": "77e31e58-9859-4dae-cf21-e0021511a178"
      },
      "outputs": [
        {
          "output_type": "stream",
          "name": "stdout",
          "text": [
            "Mounted at /content/drive\n"
          ]
        }
      ],
      "source": [
        "from google.colab import drive\n",
        "drive.mount('/content/drive')"
      ]
    },
    {
      "cell_type": "code",
      "source": [
        "import pandas as pd\n",
        "from sklearn.model_selection import StratifiedShuffleSplit\n",
        "from sklearn.linear_model import LogisticRegression\n",
        "from sklearn import metrics\n",
        "from sklearn.preprocessing import StandardScaler\n",
        "from sklearn.preprocessing import LabelEncoder\n",
        "import numpy as np\n",
        "from sklearn.model_selection import train_test_split\n",
        "from tensorflow.keras.utils import to_categorical\n",
        "from sklearn.dummy import DummyClassifier"
      ],
      "metadata": {
        "id": "QaIl1zlZgeUk"
      },
      "execution_count": null,
      "outputs": []
    },
    {
      "cell_type": "markdown",
      "source": [
        "##Antivirals Non-antivirals"
      ],
      "metadata": {
        "id": "zHLW_gjcebPv"
      }
    },
    {
      "cell_type": "code",
      "source": [
        "antivirals = pd.read_csv(\"/content/drive/MyDrive/DeepLearn4DrugDesign/Data/antivirals_descriptors.csv\")"
      ],
      "metadata": {
        "id": "Cbou4HlFhNfx"
      },
      "execution_count": null,
      "outputs": []
    },
    {
      "cell_type": "code",
      "source": [
        "non_antivirals = pd.read_csv(\"/content/drive/MyDrive/DeepLearn4DrugDesign/Data/non-antivirals_descriptors.csv\")"
      ],
      "metadata": {
        "id": "Dh0peaSYhVEb"
      },
      "execution_count": null,
      "outputs": []
    },
    {
      "cell_type": "code",
      "source": [
        "antivirals"
      ],
      "metadata": {
        "id": "3en28alyoKoF"
      },
      "execution_count": null,
      "outputs": []
    },
    {
      "cell_type": "code",
      "source": [
        "non_antivirals"
      ],
      "metadata": {
        "id": "YmbTRy6xoM-Q"
      },
      "execution_count": null,
      "outputs": []
    },
    {
      "cell_type": "code",
      "source": [
        "frames = []\n",
        "frames = (antivirals, non_antivirals)\n",
        "dataset = pd.concat(frames)"
      ],
      "metadata": {
        "id": "e421eNZZhkcX"
      },
      "execution_count": null,
      "outputs": []
    },
    {
      "cell_type": "code",
      "source": [
        "dataset"
      ],
      "metadata": {
        "id": "rz4-Rkacjybg"
      },
      "execution_count": null,
      "outputs": []
    },
    {
      "cell_type": "code",
      "source": [
        "X = dataset.iloc[:,:-1].astype(float)\n",
        "Y = dataset.iloc[:,-1]"
      ],
      "metadata": {
        "id": "8Dv-HIGtoSis"
      },
      "execution_count": null,
      "outputs": []
    },
    {
      "cell_type": "markdown",
      "source": [
        "##Feature ranking using RFE"
      ],
      "metadata": {
        "id": "amC8JxtdPMiw"
      }
    },
    {
      "cell_type": "code",
      "source": [
        "#Check with the Dummy Classifier\n",
        "#model = DummyClassifier(strategy='uniform')\n",
        "\n",
        "#Check the feature distribution in the dataset \n",
        "from sklearn.pipeline import Pipeline\n",
        "from sklearn.tree import DecisionTreeClassifier\n",
        "\n",
        "#Check the feature importance:\n",
        "from sklearn.feature_selection import RFE\n",
        "#rfe = RFE(model, 3)\n",
        "\n",
        "rfe = RFE(estimator=DecisionTreeClassifier())\n",
        "fit = rfe.fit(X, Y)\n",
        "model = DecisionTreeClassifier()\n",
        "#pipeline = Pipeline(steps=[('s',rfe),('m',model)])\n",
        "# fit the model on all available data\n",
        "#pipeline.fit(X, Y)\n",
        "print(\"Number of Features: \", fit.n_features_)\n",
        "print(\"Selected Features: \", fit.support_)\n",
        "print(\"Feature Ranking: \", fit.ranking_)"
      ],
      "metadata": {
        "colab": {
          "base_uri": "https://localhost:8080/"
        },
        "id": "eRQS4Q2SSjRz",
        "outputId": "f9cf2487-b833-4809-8726-5cb5b2dcbd79"
      },
      "execution_count": null,
      "outputs": [
        {
          "output_type": "stream",
          "name": "stdout",
          "text": [
            "Number of Features:  27\n",
            "Selected Features:  [False False False False False False False False False False False False\n",
            " False False False False False False False False False False False False\n",
            " False False False False  True  True  True  True  True  True  True  True\n",
            "  True  True  True  True  True  True  True  True  True  True  True  True\n",
            "  True  True  True  True  True  True  True]\n",
            "Feature Ranking:  [29 28 27 26 25 24 23 22 21 20 19 18 17 16 15 14 13 12 11 10  9  8  7  6\n",
            "  5  4  3  2  1  1  1  1  1  1  1  1  1  1  1  1  1  1  1  1  1  1  1  1\n",
            "  1  1  1  1  1  1  1]\n"
          ]
        }
      ]
    },
    {
      "cell_type": "code",
      "source": [
        "X.columns"
      ],
      "metadata": {
        "colab": {
          "base_uri": "https://localhost:8080/"
        },
        "id": "tGFritJB5K9W",
        "outputId": "0a133bd3-7109-463a-d056-0941ac5ac76d"
      },
      "execution_count": null,
      "outputs": [
        {
          "output_type": "execute_result",
          "data": {
            "text/plain": [
              "Index(['SlogP_VSA2', 'EState_VSA8', 'SlogP_VSA6', 'SlogP_VSA3', 'PEOE_VSA4',\n",
              "       'EState_VSA5', 'VSA_EState3', 'SMR_VSA6', 'BertzCT', 'SlogP_VSA8',\n",
              "       'EState_VSA1', 'VSA_EState1', 'VSA_EState8', 'PEOE_VSA8', 'SlogP_VSA11',\n",
              "       'PEOE_VSA1', 'VSA_EState7', 'VSA_EState6', 'EState_VSA3',\n",
              "       'EState_VSA10', 'SMR_VSA8', 'PEOE_VSA13', 'PEOE_VSA6', 'EState_VSA9',\n",
              "       'SlogP_VSA5', 'SlogP_VSA9', 'PEOE_VSA5', 'EState_VSA7', 'PEOE_VSA11',\n",
              "       'SlogP_VSA7', 'PEOE_VSA2', 'SMR_VSA1', 'PEOE_VSA3', 'SlogP_VSA1',\n",
              "       'SMR_VSA9', 'VSA_EState2', 'EState_VSA2', 'TPSA', 'SlogP_VSA10',\n",
              "       'PEOE_VSA10', 'SlogP_VSA4', 'SMR_VSA7', 'VSA_EState9', 'EState_VSA6',\n",
              "       'SMR_VSA4', 'LabuteASA', 'VSA_EState5', 'SMR_VSA2', 'PEOE_VSA12',\n",
              "       'SMR_VSA5', 'PEOE_VSA7', 'SMR_VSA3', 'VSA_EState4', 'PEOE_VSA9',\n",
              "       'EState_VSA4'],\n",
              "      dtype='object')"
            ]
          },
          "metadata": {},
          "execution_count": 22
        }
      ]
    },
    {
      "cell_type": "code",
      "source": [
        "N = 27\n",
        "# Select last 27 columns of dataframe\n",
        "X_selected = X.iloc[: , -N:]\n",
        "dataset_selected = dataset.iloc[:,-N:]"
      ],
      "metadata": {
        "id": "Efb76OtTX7iG"
      },
      "execution_count": 88,
      "outputs": []
    },
    {
      "cell_type": "code",
      "source": [
        "X_selected"
      ],
      "metadata": {
        "colab": {
          "base_uri": "https://localhost:8080/",
          "height": 483
        },
        "id": "CBQTgfj25Cfu",
        "outputId": "8211e6d7-b9de-4301-c884-ca519669f849"
      },
      "execution_count": null,
      "outputs": [
        {
          "output_type": "execute_result",
          "data": {
            "text/html": [
              "\n",
              "  <div id=\"df-eac3c778-4c67-426b-a615-c17f03246975\">\n",
              "    <div class=\"colab-df-container\">\n",
              "      <div>\n",
              "<style scoped>\n",
              "    .dataframe tbody tr th:only-of-type {\n",
              "        vertical-align: middle;\n",
              "    }\n",
              "\n",
              "    .dataframe tbody tr th {\n",
              "        vertical-align: top;\n",
              "    }\n",
              "\n",
              "    .dataframe thead th {\n",
              "        text-align: right;\n",
              "    }\n",
              "</style>\n",
              "<table border=\"1\" class=\"dataframe\">\n",
              "  <thead>\n",
              "    <tr style=\"text-align: right;\">\n",
              "      <th></th>\n",
              "      <th>PEOE_VSA11</th>\n",
              "      <th>SlogP_VSA7</th>\n",
              "      <th>PEOE_VSA2</th>\n",
              "      <th>SMR_VSA1</th>\n",
              "      <th>PEOE_VSA3</th>\n",
              "      <th>SlogP_VSA1</th>\n",
              "      <th>SMR_VSA9</th>\n",
              "      <th>VSA_EState2</th>\n",
              "      <th>EState_VSA2</th>\n",
              "      <th>TPSA</th>\n",
              "      <th>SlogP_VSA10</th>\n",
              "      <th>PEOE_VSA10</th>\n",
              "      <th>SlogP_VSA4</th>\n",
              "      <th>SMR_VSA7</th>\n",
              "      <th>VSA_EState9</th>\n",
              "      <th>EState_VSA6</th>\n",
              "      <th>SMR_VSA4</th>\n",
              "      <th>LabuteASA</th>\n",
              "      <th>VSA_EState5</th>\n",
              "      <th>SMR_VSA2</th>\n",
              "      <th>PEOE_VSA12</th>\n",
              "      <th>SMR_VSA5</th>\n",
              "      <th>PEOE_VSA7</th>\n",
              "      <th>SMR_VSA3</th>\n",
              "      <th>VSA_EState4</th>\n",
              "      <th>PEOE_VSA9</th>\n",
              "      <th>EState_VSA4</th>\n",
              "    </tr>\n",
              "  </thead>\n",
              "  <tbody>\n",
              "    <tr>\n",
              "      <th>0</th>\n",
              "      <td>0.0</td>\n",
              "      <td>5.022633</td>\n",
              "      <td>4.794537</td>\n",
              "      <td>24.134870</td>\n",
              "      <td>9.184952</td>\n",
              "      <td>15.065563</td>\n",
              "      <td>5.749512</td>\n",
              "      <td>27.188493</td>\n",
              "      <td>29.354467</td>\n",
              "      <td>92.00</td>\n",
              "      <td>10.077801</td>\n",
              "      <td>17.130184</td>\n",
              "      <td>11.735127</td>\n",
              "      <td>68.215848</td>\n",
              "      <td>1.480846</td>\n",
              "      <td>28.832568</td>\n",
              "      <td>5.917906</td>\n",
              "      <td>213.226948</td>\n",
              "      <td>-1.525861</td>\n",
              "      <td>0.000000</td>\n",
              "      <td>5.42879</td>\n",
              "      <td>39.151780</td>\n",
              "      <td>48.085553</td>\n",
              "      <td>4.5671</td>\n",
              "      <td>1.099041</td>\n",
              "      <td>30.297854</td>\n",
              "      <td>31.618542</td>\n",
              "    </tr>\n",
              "    <tr>\n",
              "      <th>1</th>\n",
              "      <td>0.0</td>\n",
              "      <td>5.022633</td>\n",
              "      <td>9.694447</td>\n",
              "      <td>33.666270</td>\n",
              "      <td>13.979489</td>\n",
              "      <td>15.065563</td>\n",
              "      <td>5.749512</td>\n",
              "      <td>38.358033</td>\n",
              "      <td>41.524801</td>\n",
              "      <td>118.30</td>\n",
              "      <td>14.872339</td>\n",
              "      <td>23.737066</td>\n",
              "      <td>11.735127</td>\n",
              "      <td>68.215848</td>\n",
              "      <td>1.421328</td>\n",
              "      <td>10.633467</td>\n",
              "      <td>5.917906</td>\n",
              "      <td>216.137073</td>\n",
              "      <td>-1.857941</td>\n",
              "      <td>0.000000</td>\n",
              "      <td>5.42879</td>\n",
              "      <td>26.310137</td>\n",
              "      <td>35.243910</td>\n",
              "      <td>4.5671</td>\n",
              "      <td>0.116985</td>\n",
              "      <td>36.842611</td>\n",
              "      <td>0.000000</td>\n",
              "    </tr>\n",
              "    <tr>\n",
              "      <th>2</th>\n",
              "      <td>0.0</td>\n",
              "      <td>5.022633</td>\n",
              "      <td>4.794537</td>\n",
              "      <td>28.871733</td>\n",
              "      <td>9.184952</td>\n",
              "      <td>15.065563</td>\n",
              "      <td>5.749512</td>\n",
              "      <td>27.131009</td>\n",
              "      <td>29.354467</td>\n",
              "      <td>101.23</td>\n",
              "      <td>10.077801</td>\n",
              "      <td>17.130184</td>\n",
              "      <td>11.735127</td>\n",
              "      <td>68.215848</td>\n",
              "      <td>1.470429</td>\n",
              "      <td>28.832568</td>\n",
              "      <td>5.917906</td>\n",
              "      <td>218.340493</td>\n",
              "      <td>-1.591823</td>\n",
              "      <td>0.000000</td>\n",
              "      <td>5.42879</td>\n",
              "      <td>26.310137</td>\n",
              "      <td>35.243910</td>\n",
              "      <td>4.5671</td>\n",
              "      <td>0.929348</td>\n",
              "      <td>43.511618</td>\n",
              "      <td>5.687386</td>\n",
              "    </tr>\n",
              "    <tr>\n",
              "      <th>3</th>\n",
              "      <td>0.0</td>\n",
              "      <td>5.022633</td>\n",
              "      <td>4.794537</td>\n",
              "      <td>24.134870</td>\n",
              "      <td>9.184952</td>\n",
              "      <td>15.065563</td>\n",
              "      <td>5.749512</td>\n",
              "      <td>27.276732</td>\n",
              "      <td>29.354467</td>\n",
              "      <td>92.00</td>\n",
              "      <td>10.077801</td>\n",
              "      <td>17.130184</td>\n",
              "      <td>11.735127</td>\n",
              "      <td>68.215848</td>\n",
              "      <td>1.484318</td>\n",
              "      <td>28.832568</td>\n",
              "      <td>5.917906</td>\n",
              "      <td>219.591890</td>\n",
              "      <td>-1.521480</td>\n",
              "      <td>0.000000</td>\n",
              "      <td>5.42879</td>\n",
              "      <td>45.572602</td>\n",
              "      <td>54.506375</td>\n",
              "      <td>4.5671</td>\n",
              "      <td>1.114467</td>\n",
              "      <td>30.297854</td>\n",
              "      <td>38.039364</td>\n",
              "    </tr>\n",
              "    <tr>\n",
              "      <th>4</th>\n",
              "      <td>0.0</td>\n",
              "      <td>5.022633</td>\n",
              "      <td>9.589074</td>\n",
              "      <td>28.929407</td>\n",
              "      <td>9.184952</td>\n",
              "      <td>15.065563</td>\n",
              "      <td>5.749512</td>\n",
              "      <td>39.134809</td>\n",
              "      <td>40.825098</td>\n",
              "      <td>109.07</td>\n",
              "      <td>10.077801</td>\n",
              "      <td>17.130184</td>\n",
              "      <td>11.735127</td>\n",
              "      <td>68.215848</td>\n",
              "      <td>1.441329</td>\n",
              "      <td>21.599744</td>\n",
              "      <td>5.917906</td>\n",
              "      <td>223.753412</td>\n",
              "      <td>-1.822958</td>\n",
              "      <td>0.000000</td>\n",
              "      <td>11.33597</td>\n",
              "      <td>45.572602</td>\n",
              "      <td>48.085553</td>\n",
              "      <td>4.5671</td>\n",
              "      <td>0.391164</td>\n",
              "      <td>30.297854</td>\n",
              "      <td>12.841643</td>\n",
              "    </tr>\n",
              "    <tr>\n",
              "      <th>...</th>\n",
              "      <td>...</td>\n",
              "      <td>...</td>\n",
              "      <td>...</td>\n",
              "      <td>...</td>\n",
              "      <td>...</td>\n",
              "      <td>...</td>\n",
              "      <td>...</td>\n",
              "      <td>...</td>\n",
              "      <td>...</td>\n",
              "      <td>...</td>\n",
              "      <td>...</td>\n",
              "      <td>...</td>\n",
              "      <td>...</td>\n",
              "      <td>...</td>\n",
              "      <td>...</td>\n",
              "      <td>...</td>\n",
              "      <td>...</td>\n",
              "      <td>...</td>\n",
              "      <td>...</td>\n",
              "      <td>...</td>\n",
              "      <td>...</td>\n",
              "      <td>...</td>\n",
              "      <td>...</td>\n",
              "      <td>...</td>\n",
              "      <td>...</td>\n",
              "      <td>...</td>\n",
              "      <td>...</td>\n",
              "    </tr>\n",
              "    <tr>\n",
              "      <th>99994</th>\n",
              "      <td>0.0</td>\n",
              "      <td>0.000000</td>\n",
              "      <td>0.000000</td>\n",
              "      <td>0.000000</td>\n",
              "      <td>0.000000</td>\n",
              "      <td>0.000000</td>\n",
              "      <td>6.069221</td>\n",
              "      <td>0.000000</td>\n",
              "      <td>11.332897</td>\n",
              "      <td>0.00</td>\n",
              "      <td>0.000000</td>\n",
              "      <td>0.000000</td>\n",
              "      <td>23.671624</td>\n",
              "      <td>0.000000</td>\n",
              "      <td>0.000000</td>\n",
              "      <td>0.000000</td>\n",
              "      <td>23.671624</td>\n",
              "      <td>58.652957</td>\n",
              "      <td>3.851852</td>\n",
              "      <td>0.000000</td>\n",
              "      <td>777.00000</td>\n",
              "      <td>34.115770</td>\n",
              "      <td>777.000000</td>\n",
              "      <td>0.0000</td>\n",
              "      <td>0.000000</td>\n",
              "      <td>0.000000</td>\n",
              "      <td>23.671624</td>\n",
              "    </tr>\n",
              "    <tr>\n",
              "      <th>99995</th>\n",
              "      <td>0.0</td>\n",
              "      <td>0.000000</td>\n",
              "      <td>0.000000</td>\n",
              "      <td>0.000000</td>\n",
              "      <td>0.000000</td>\n",
              "      <td>0.000000</td>\n",
              "      <td>6.069221</td>\n",
              "      <td>0.000000</td>\n",
              "      <td>5.917906</td>\n",
              "      <td>23.79</td>\n",
              "      <td>0.000000</td>\n",
              "      <td>0.000000</td>\n",
              "      <td>17.249019</td>\n",
              "      <td>35.895287</td>\n",
              "      <td>0.000000</td>\n",
              "      <td>0.000000</td>\n",
              "      <td>5.917906</td>\n",
              "      <td>72.642862</td>\n",
              "      <td>0.236019</td>\n",
              "      <td>5.261892</td>\n",
              "      <td>777.00000</td>\n",
              "      <td>18.759549</td>\n",
              "      <td>777.000000</td>\n",
              "      <td>0.0000</td>\n",
              "      <td>1.451181</td>\n",
              "      <td>11.987127</td>\n",
              "      <td>6.420822</td>\n",
              "    </tr>\n",
              "    <tr>\n",
              "      <th>99996</th>\n",
              "      <td>0.0</td>\n",
              "      <td>0.000000</td>\n",
              "      <td>0.000000</td>\n",
              "      <td>4.736863</td>\n",
              "      <td>0.000000</td>\n",
              "      <td>10.053652</td>\n",
              "      <td>5.749512</td>\n",
              "      <td>0.000000</td>\n",
              "      <td>0.000000</td>\n",
              "      <td>23.79</td>\n",
              "      <td>0.000000</td>\n",
              "      <td>0.000000</td>\n",
              "      <td>17.249019</td>\n",
              "      <td>35.895287</td>\n",
              "      <td>0.000000</td>\n",
              "      <td>0.000000</td>\n",
              "      <td>5.917906</td>\n",
              "      <td>66.277920</td>\n",
              "      <td>0.818148</td>\n",
              "      <td>5.261892</td>\n",
              "      <td>777.00000</td>\n",
              "      <td>12.338728</td>\n",
              "      <td>777.000000</td>\n",
              "      <td>0.0000</td>\n",
              "      <td>1.318565</td>\n",
              "      <td>11.987127</td>\n",
              "      <td>6.420822</td>\n",
              "    </tr>\n",
              "    <tr>\n",
              "      <th>99997</th>\n",
              "      <td>0.0</td>\n",
              "      <td>0.000000</td>\n",
              "      <td>0.000000</td>\n",
              "      <td>5.106527</td>\n",
              "      <td>0.000000</td>\n",
              "      <td>0.000000</td>\n",
              "      <td>0.000000</td>\n",
              "      <td>0.000000</td>\n",
              "      <td>5.414990</td>\n",
              "      <td>21.26</td>\n",
              "      <td>5.687386</td>\n",
              "      <td>5.749512</td>\n",
              "      <td>0.000000</td>\n",
              "      <td>23.762553</td>\n",
              "      <td>1.691149</td>\n",
              "      <td>7.109798</td>\n",
              "      <td>0.000000</td>\n",
              "      <td>66.183806</td>\n",
              "      <td>0.928843</td>\n",
              "      <td>0.000000</td>\n",
              "      <td>777.00000</td>\n",
              "      <td>6.420822</td>\n",
              "      <td>777.000000</td>\n",
              "      <td>0.0000</td>\n",
              "      <td>2.620509</td>\n",
              "      <td>7.109798</td>\n",
              "      <td>18.715090</td>\n",
              "    </tr>\n",
              "    <tr>\n",
              "      <th>99998</th>\n",
              "      <td>0.0</td>\n",
              "      <td>0.000000</td>\n",
              "      <td>4.794537</td>\n",
              "      <td>9.531400</td>\n",
              "      <td>0.000000</td>\n",
              "      <td>0.000000</td>\n",
              "      <td>0.000000</td>\n",
              "      <td>11.340795</td>\n",
              "      <td>17.302202</td>\n",
              "      <td>20.23</td>\n",
              "      <td>0.000000</td>\n",
              "      <td>0.000000</td>\n",
              "      <td>5.917906</td>\n",
              "      <td>35.895287</td>\n",
              "      <td>0.000000</td>\n",
              "      <td>0.000000</td>\n",
              "      <td>5.917906</td>\n",
              "      <td>73.044516</td>\n",
              "      <td>0.486019</td>\n",
              "      <td>0.000000</td>\n",
              "      <td>777.00000</td>\n",
              "      <td>18.759549</td>\n",
              "      <td>777.000000</td>\n",
              "      <td>0.0000</td>\n",
              "      <td>1.624792</td>\n",
              "      <td>0.000000</td>\n",
              "      <td>6.420822</td>\n",
              "    </tr>\n",
              "  </tbody>\n",
              "</table>\n",
              "<p>148874 rows × 27 columns</p>\n",
              "</div>\n",
              "      <button class=\"colab-df-convert\" onclick=\"convertToInteractive('df-eac3c778-4c67-426b-a615-c17f03246975')\"\n",
              "              title=\"Convert this dataframe to an interactive table.\"\n",
              "              style=\"display:none;\">\n",
              "        \n",
              "  <svg xmlns=\"http://www.w3.org/2000/svg\" height=\"24px\"viewBox=\"0 0 24 24\"\n",
              "       width=\"24px\">\n",
              "    <path d=\"M0 0h24v24H0V0z\" fill=\"none\"/>\n",
              "    <path d=\"M18.56 5.44l.94 2.06.94-2.06 2.06-.94-2.06-.94-.94-2.06-.94 2.06-2.06.94zm-11 1L8.5 8.5l.94-2.06 2.06-.94-2.06-.94L8.5 2.5l-.94 2.06-2.06.94zm10 10l.94 2.06.94-2.06 2.06-.94-2.06-.94-.94-2.06-.94 2.06-2.06.94z\"/><path d=\"M17.41 7.96l-1.37-1.37c-.4-.4-.92-.59-1.43-.59-.52 0-1.04.2-1.43.59L10.3 9.45l-7.72 7.72c-.78.78-.78 2.05 0 2.83L4 21.41c.39.39.9.59 1.41.59.51 0 1.02-.2 1.41-.59l7.78-7.78 2.81-2.81c.8-.78.8-2.07 0-2.86zM5.41 20L4 18.59l7.72-7.72 1.47 1.35L5.41 20z\"/>\n",
              "  </svg>\n",
              "      </button>\n",
              "      \n",
              "  <style>\n",
              "    .colab-df-container {\n",
              "      display:flex;\n",
              "      flex-wrap:wrap;\n",
              "      gap: 12px;\n",
              "    }\n",
              "\n",
              "    .colab-df-convert {\n",
              "      background-color: #E8F0FE;\n",
              "      border: none;\n",
              "      border-radius: 50%;\n",
              "      cursor: pointer;\n",
              "      display: none;\n",
              "      fill: #1967D2;\n",
              "      height: 32px;\n",
              "      padding: 0 0 0 0;\n",
              "      width: 32px;\n",
              "    }\n",
              "\n",
              "    .colab-df-convert:hover {\n",
              "      background-color: #E2EBFA;\n",
              "      box-shadow: 0px 1px 2px rgba(60, 64, 67, 0.3), 0px 1px 3px 1px rgba(60, 64, 67, 0.15);\n",
              "      fill: #174EA6;\n",
              "    }\n",
              "\n",
              "    [theme=dark] .colab-df-convert {\n",
              "      background-color: #3B4455;\n",
              "      fill: #D2E3FC;\n",
              "    }\n",
              "\n",
              "    [theme=dark] .colab-df-convert:hover {\n",
              "      background-color: #434B5C;\n",
              "      box-shadow: 0px 1px 3px 1px rgba(0, 0, 0, 0.15);\n",
              "      filter: drop-shadow(0px 1px 2px rgba(0, 0, 0, 0.3));\n",
              "      fill: #FFFFFF;\n",
              "    }\n",
              "  </style>\n",
              "\n",
              "      <script>\n",
              "        const buttonEl =\n",
              "          document.querySelector('#df-eac3c778-4c67-426b-a615-c17f03246975 button.colab-df-convert');\n",
              "        buttonEl.style.display =\n",
              "          google.colab.kernel.accessAllowed ? 'block' : 'none';\n",
              "\n",
              "        async function convertToInteractive(key) {\n",
              "          const element = document.querySelector('#df-eac3c778-4c67-426b-a615-c17f03246975');\n",
              "          const dataTable =\n",
              "            await google.colab.kernel.invokeFunction('convertToInteractive',\n",
              "                                                     [key], {});\n",
              "          if (!dataTable) return;\n",
              "\n",
              "          const docLinkHtml = 'Like what you see? Visit the ' +\n",
              "            '<a target=\"_blank\" href=https://colab.research.google.com/notebooks/data_table.ipynb>data table notebook</a>'\n",
              "            + ' to learn more about interactive tables.';\n",
              "          element.innerHTML = '';\n",
              "          dataTable['output_type'] = 'display_data';\n",
              "          await google.colab.output.renderOutput(dataTable, element);\n",
              "          const docLink = document.createElement('div');\n",
              "          docLink.innerHTML = docLinkHtml;\n",
              "          element.appendChild(docLink);\n",
              "        }\n",
              "      </script>\n",
              "    </div>\n",
              "  </div>\n",
              "  "
            ],
            "text/plain": [
              "       PEOE_VSA11  SlogP_VSA7  PEOE_VSA2  ...  VSA_EState4  PEOE_VSA9  EState_VSA4\n",
              "0             0.0    5.022633   4.794537  ...     1.099041  30.297854    31.618542\n",
              "1             0.0    5.022633   9.694447  ...     0.116985  36.842611     0.000000\n",
              "2             0.0    5.022633   4.794537  ...     0.929348  43.511618     5.687386\n",
              "3             0.0    5.022633   4.794537  ...     1.114467  30.297854    38.039364\n",
              "4             0.0    5.022633   9.589074  ...     0.391164  30.297854    12.841643\n",
              "...           ...         ...        ...  ...          ...        ...          ...\n",
              "99994         0.0    0.000000   0.000000  ...     0.000000   0.000000    23.671624\n",
              "99995         0.0    0.000000   0.000000  ...     1.451181  11.987127     6.420822\n",
              "99996         0.0    0.000000   0.000000  ...     1.318565  11.987127     6.420822\n",
              "99997         0.0    0.000000   0.000000  ...     2.620509   7.109798    18.715090\n",
              "99998         0.0    0.000000   4.794537  ...     1.624792   0.000000     6.420822\n",
              "\n",
              "[148874 rows x 27 columns]"
            ]
          },
          "metadata": {},
          "execution_count": 21
        }
      ]
    },
    {
      "cell_type": "code",
      "source": [
        "X_selected.columns"
      ],
      "metadata": {
        "colab": {
          "base_uri": "https://localhost:8080/"
        },
        "id": "NK0rpRcw18Uh",
        "outputId": "346c872a-be9a-4d80-a544-70bed295fe74"
      },
      "execution_count": null,
      "outputs": [
        {
          "output_type": "execute_result",
          "data": {
            "text/plain": [
              "Index(['PEOE_VSA11', 'SlogP_VSA7', 'PEOE_VSA2', 'SMR_VSA1', 'PEOE_VSA3',\n",
              "       'SlogP_VSA1', 'SMR_VSA9', 'VSA_EState2', 'EState_VSA2', 'TPSA',\n",
              "       'SlogP_VSA10', 'PEOE_VSA10', 'SlogP_VSA4', 'SMR_VSA7', 'VSA_EState9',\n",
              "       'EState_VSA6', 'SMR_VSA4', 'LabuteASA', 'VSA_EState5', 'SMR_VSA2',\n",
              "       'PEOE_VSA12', 'SMR_VSA5', 'PEOE_VSA7', 'SMR_VSA3', 'VSA_EState4',\n",
              "       'PEOE_VSA9', 'EState_VSA4'],\n",
              "      dtype='object')"
            ]
          },
          "metadata": {},
          "execution_count": 51
        }
      ]
    },
    {
      "cell_type": "markdown",
      "source": [
        "##KDE plots for the selected 27 features on composite dataset"
      ],
      "metadata": {
        "id": "YgWUQKEoPACT"
      }
    },
    {
      "cell_type": "code",
      "source": [
        "X_selected.describe()"
      ],
      "metadata": {
        "colab": {
          "base_uri": "https://localhost:8080/",
          "height": 361
        },
        "id": "rJB_hCBmVVJ2",
        "outputId": "a3f94e1c-1e0d-4bec-e02c-3656847dac7f"
      },
      "execution_count": 85,
      "outputs": [
        {
          "output_type": "execute_result",
          "data": {
            "text/html": [
              "\n",
              "  <div id=\"df-f1735eee-b8ff-4f47-a211-13a2f3e5d678\">\n",
              "    <div class=\"colab-df-container\">\n",
              "      <div>\n",
              "<style scoped>\n",
              "    .dataframe tbody tr th:only-of-type {\n",
              "        vertical-align: middle;\n",
              "    }\n",
              "\n",
              "    .dataframe tbody tr th {\n",
              "        vertical-align: top;\n",
              "    }\n",
              "\n",
              "    .dataframe thead th {\n",
              "        text-align: right;\n",
              "    }\n",
              "</style>\n",
              "<table border=\"1\" class=\"dataframe\">\n",
              "  <thead>\n",
              "    <tr style=\"text-align: right;\">\n",
              "      <th></th>\n",
              "      <th>PEOE_VSA11</th>\n",
              "      <th>SlogP_VSA7</th>\n",
              "      <th>PEOE_VSA2</th>\n",
              "      <th>SMR_VSA1</th>\n",
              "      <th>PEOE_VSA3</th>\n",
              "      <th>SlogP_VSA1</th>\n",
              "      <th>SMR_VSA9</th>\n",
              "      <th>VSA_EState2</th>\n",
              "      <th>EState_VSA2</th>\n",
              "      <th>TPSA</th>\n",
              "      <th>SlogP_VSA10</th>\n",
              "      <th>PEOE_VSA10</th>\n",
              "      <th>SlogP_VSA4</th>\n",
              "      <th>SMR_VSA7</th>\n",
              "      <th>VSA_EState9</th>\n",
              "      <th>EState_VSA6</th>\n",
              "      <th>SMR_VSA4</th>\n",
              "      <th>LabuteASA</th>\n",
              "      <th>VSA_EState5</th>\n",
              "      <th>SMR_VSA2</th>\n",
              "      <th>PEOE_VSA12</th>\n",
              "      <th>SMR_VSA5</th>\n",
              "      <th>PEOE_VSA7</th>\n",
              "      <th>SMR_VSA3</th>\n",
              "      <th>VSA_EState4</th>\n",
              "      <th>PEOE_VSA9</th>\n",
              "      <th>EState_VSA4</th>\n",
              "    </tr>\n",
              "  </thead>\n",
              "  <tbody>\n",
              "    <tr>\n",
              "      <th>count</th>\n",
              "      <td>148874.000000</td>\n",
              "      <td>148874.000000</td>\n",
              "      <td>148874.000000</td>\n",
              "      <td>148874.000000</td>\n",
              "      <td>148874.000000</td>\n",
              "      <td>148874.000000</td>\n",
              "      <td>148874.000000</td>\n",
              "      <td>148874.000000</td>\n",
              "      <td>148874.000000</td>\n",
              "      <td>148874.000000</td>\n",
              "      <td>148874.000000</td>\n",
              "      <td>148874.000000</td>\n",
              "      <td>148874.000000</td>\n",
              "      <td>148874.000000</td>\n",
              "      <td>148874.000000</td>\n",
              "      <td>148874.000000</td>\n",
              "      <td>148874.000000</td>\n",
              "      <td>148874.000000</td>\n",
              "      <td>148874.000000</td>\n",
              "      <td>148874.000000</td>\n",
              "      <td>148874.000000</td>\n",
              "      <td>148874.000000</td>\n",
              "      <td>148874.000000</td>\n",
              "      <td>148874.000000</td>\n",
              "      <td>148874.000000</td>\n",
              "      <td>148874.000000</td>\n",
              "      <td>148874.000000</td>\n",
              "    </tr>\n",
              "    <tr>\n",
              "      <th>mean</th>\n",
              "      <td>4.410946</td>\n",
              "      <td>1.448182</td>\n",
              "      <td>7.425296</td>\n",
              "      <td>17.207451</td>\n",
              "      <td>5.271566</td>\n",
              "      <td>7.714078</td>\n",
              "      <td>4.156249</td>\n",
              "      <td>19.542653</td>\n",
              "      <td>14.161087</td>\n",
              "      <td>82.154512</td>\n",
              "      <td>4.734809</td>\n",
              "      <td>8.681674</td>\n",
              "      <td>6.405502</td>\n",
              "      <td>39.307265</td>\n",
              "      <td>-0.464726</td>\n",
              "      <td>12.272105</td>\n",
              "      <td>4.094190</td>\n",
              "      <td>142.785306</td>\n",
              "      <td>-0.170566</td>\n",
              "      <td>0.229534</td>\n",
              "      <td>523.803602</td>\n",
              "      <td>35.263886</td>\n",
              "      <td>534.654342</td>\n",
              "      <td>8.309416</td>\n",
              "      <td>2.199108</td>\n",
              "      <td>12.789611</td>\n",
              "      <td>15.362602</td>\n",
              "    </tr>\n",
              "    <tr>\n",
              "      <th>std</th>\n",
              "      <td>9.213530</td>\n",
              "      <td>9.204678</td>\n",
              "      <td>9.956047</td>\n",
              "      <td>18.549133</td>\n",
              "      <td>8.951605</td>\n",
              "      <td>10.560706</td>\n",
              "      <td>9.785142</td>\n",
              "      <td>19.962027</td>\n",
              "      <td>16.838425</td>\n",
              "      <td>69.897379</td>\n",
              "      <td>9.437258</td>\n",
              "      <td>12.432205</td>\n",
              "      <td>11.160065</td>\n",
              "      <td>29.853500</td>\n",
              "      <td>6.721220</td>\n",
              "      <td>16.015600</td>\n",
              "      <td>10.305768</td>\n",
              "      <td>74.772447</td>\n",
              "      <td>6.659798</td>\n",
              "      <td>6.151786</td>\n",
              "      <td>362.193994</td>\n",
              "      <td>37.147821</td>\n",
              "      <td>347.070923</td>\n",
              "      <td>11.196622</td>\n",
              "      <td>6.904295</td>\n",
              "      <td>14.231717</td>\n",
              "      <td>16.955920</td>\n",
              "    </tr>\n",
              "    <tr>\n",
              "      <th>min</th>\n",
              "      <td>-666.000000</td>\n",
              "      <td>-666.000000</td>\n",
              "      <td>-666.000000</td>\n",
              "      <td>-666.000000</td>\n",
              "      <td>-666.000000</td>\n",
              "      <td>-666.000000</td>\n",
              "      <td>-666.000000</td>\n",
              "      <td>-666.000000</td>\n",
              "      <td>-666.000000</td>\n",
              "      <td>-666.000000</td>\n",
              "      <td>-666.000000</td>\n",
              "      <td>-666.000000</td>\n",
              "      <td>-666.000000</td>\n",
              "      <td>-666.000000</td>\n",
              "      <td>-666.000000</td>\n",
              "      <td>-666.000000</td>\n",
              "      <td>-666.000000</td>\n",
              "      <td>-666.000000</td>\n",
              "      <td>-666.000000</td>\n",
              "      <td>-666.000000</td>\n",
              "      <td>0.000000</td>\n",
              "      <td>-666.000000</td>\n",
              "      <td>0.000000</td>\n",
              "      <td>-666.000000</td>\n",
              "      <td>-666.000000</td>\n",
              "      <td>-666.000000</td>\n",
              "      <td>-666.000000</td>\n",
              "    </tr>\n",
              "    <tr>\n",
              "      <th>25%</th>\n",
              "      <td>0.000000</td>\n",
              "      <td>0.000000</td>\n",
              "      <td>0.000000</td>\n",
              "      <td>5.032314</td>\n",
              "      <td>0.000000</td>\n",
              "      <td>0.000000</td>\n",
              "      <td>0.000000</td>\n",
              "      <td>8.555556</td>\n",
              "      <td>5.559267</td>\n",
              "      <td>34.890000</td>\n",
              "      <td>0.000000</td>\n",
              "      <td>0.000000</td>\n",
              "      <td>0.000000</td>\n",
              "      <td>16.681124</td>\n",
              "      <td>0.000000</td>\n",
              "      <td>0.000000</td>\n",
              "      <td>0.000000</td>\n",
              "      <td>97.937492</td>\n",
              "      <td>-0.479233</td>\n",
              "      <td>0.000000</td>\n",
              "      <td>10.023291</td>\n",
              "      <td>11.440240</td>\n",
              "      <td>59.772905</td>\n",
              "      <td>0.000000</td>\n",
              "      <td>0.000000</td>\n",
              "      <td>4.923311</td>\n",
              "      <td>4.567100</td>\n",
              "    </tr>\n",
              "    <tr>\n",
              "      <th>50%</th>\n",
              "      <td>0.000000</td>\n",
              "      <td>0.000000</td>\n",
              "      <td>4.794537</td>\n",
              "      <td>14.210589</td>\n",
              "      <td>4.794537</td>\n",
              "      <td>5.428790</td>\n",
              "      <td>0.000000</td>\n",
              "      <td>14.565257</td>\n",
              "      <td>11.502365</td>\n",
              "      <td>66.400000</td>\n",
              "      <td>0.000000</td>\n",
              "      <td>5.760247</td>\n",
              "      <td>0.000000</td>\n",
              "      <td>35.484945</td>\n",
              "      <td>0.000000</td>\n",
              "      <td>6.923737</td>\n",
              "      <td>0.000000</td>\n",
              "      <td>128.314037</td>\n",
              "      <td>0.000000</td>\n",
              "      <td>0.000000</td>\n",
              "      <td>777.000000</td>\n",
              "      <td>24.925325</td>\n",
              "      <td>777.000000</td>\n",
              "      <td>5.316789</td>\n",
              "      <td>1.286163</td>\n",
              "      <td>11.250838</td>\n",
              "      <td>11.761885</td>\n",
              "    </tr>\n",
              "    <tr>\n",
              "      <th>75%</th>\n",
              "      <td>6.227901</td>\n",
              "      <td>0.000000</td>\n",
              "      <td>9.883888</td>\n",
              "      <td>23.730748</td>\n",
              "      <td>9.374394</td>\n",
              "      <td>11.249010</td>\n",
              "      <td>5.749512</td>\n",
              "      <td>26.014426</td>\n",
              "      <td>19.183069</td>\n",
              "      <td>111.907500</td>\n",
              "      <td>5.884182</td>\n",
              "      <td>12.331868</td>\n",
              "      <td>10.829981</td>\n",
              "      <td>59.408693</td>\n",
              "      <td>0.000000</td>\n",
              "      <td>19.192200</td>\n",
              "      <td>5.842670</td>\n",
              "      <td>167.139501</td>\n",
              "      <td>0.593302</td>\n",
              "      <td>0.000000</td>\n",
              "      <td>777.000000</td>\n",
              "      <td>49.079601</td>\n",
              "      <td>777.000000</td>\n",
              "      <td>14.450988</td>\n",
              "      <td>3.706413</td>\n",
              "      <td>18.628754</td>\n",
              "      <td>23.092831</td>\n",
              "    </tr>\n",
              "    <tr>\n",
              "      <th>max</th>\n",
              "      <td>141.543529</td>\n",
              "      <td>405.914704</td>\n",
              "      <td>208.363159</td>\n",
              "      <td>2090.036965</td>\n",
              "      <td>151.570822</td>\n",
              "      <td>447.624652</td>\n",
              "      <td>119.623386</td>\n",
              "      <td>440.266929</td>\n",
              "      <td>2085.461439</td>\n",
              "      <td>1843.000000</td>\n",
              "      <td>316.109883</td>\n",
              "      <td>349.730479</td>\n",
              "      <td>247.750780</td>\n",
              "      <td>434.338695</td>\n",
              "      <td>30.716667</td>\n",
              "      <td>323.173453</td>\n",
              "      <td>94.710805</td>\n",
              "      <td>2225.393440</td>\n",
              "      <td>25.400544</td>\n",
              "      <td>94.714048</td>\n",
              "      <td>777.000000</td>\n",
              "      <td>645.033951</td>\n",
              "      <td>777.000000</td>\n",
              "      <td>174.420680</td>\n",
              "      <td>74.333964</td>\n",
              "      <td>442.858989</td>\n",
              "      <td>305.411057</td>\n",
              "    </tr>\n",
              "  </tbody>\n",
              "</table>\n",
              "</div>\n",
              "      <button class=\"colab-df-convert\" onclick=\"convertToInteractive('df-f1735eee-b8ff-4f47-a211-13a2f3e5d678')\"\n",
              "              title=\"Convert this dataframe to an interactive table.\"\n",
              "              style=\"display:none;\">\n",
              "        \n",
              "  <svg xmlns=\"http://www.w3.org/2000/svg\" height=\"24px\"viewBox=\"0 0 24 24\"\n",
              "       width=\"24px\">\n",
              "    <path d=\"M0 0h24v24H0V0z\" fill=\"none\"/>\n",
              "    <path d=\"M18.56 5.44l.94 2.06.94-2.06 2.06-.94-2.06-.94-.94-2.06-.94 2.06-2.06.94zm-11 1L8.5 8.5l.94-2.06 2.06-.94-2.06-.94L8.5 2.5l-.94 2.06-2.06.94zm10 10l.94 2.06.94-2.06 2.06-.94-2.06-.94-.94-2.06-.94 2.06-2.06.94z\"/><path d=\"M17.41 7.96l-1.37-1.37c-.4-.4-.92-.59-1.43-.59-.52 0-1.04.2-1.43.59L10.3 9.45l-7.72 7.72c-.78.78-.78 2.05 0 2.83L4 21.41c.39.39.9.59 1.41.59.51 0 1.02-.2 1.41-.59l7.78-7.78 2.81-2.81c.8-.78.8-2.07 0-2.86zM5.41 20L4 18.59l7.72-7.72 1.47 1.35L5.41 20z\"/>\n",
              "  </svg>\n",
              "      </button>\n",
              "      \n",
              "  <style>\n",
              "    .colab-df-container {\n",
              "      display:flex;\n",
              "      flex-wrap:wrap;\n",
              "      gap: 12px;\n",
              "    }\n",
              "\n",
              "    .colab-df-convert {\n",
              "      background-color: #E8F0FE;\n",
              "      border: none;\n",
              "      border-radius: 50%;\n",
              "      cursor: pointer;\n",
              "      display: none;\n",
              "      fill: #1967D2;\n",
              "      height: 32px;\n",
              "      padding: 0 0 0 0;\n",
              "      width: 32px;\n",
              "    }\n",
              "\n",
              "    .colab-df-convert:hover {\n",
              "      background-color: #E2EBFA;\n",
              "      box-shadow: 0px 1px 2px rgba(60, 64, 67, 0.3), 0px 1px 3px 1px rgba(60, 64, 67, 0.15);\n",
              "      fill: #174EA6;\n",
              "    }\n",
              "\n",
              "    [theme=dark] .colab-df-convert {\n",
              "      background-color: #3B4455;\n",
              "      fill: #D2E3FC;\n",
              "    }\n",
              "\n",
              "    [theme=dark] .colab-df-convert:hover {\n",
              "      background-color: #434B5C;\n",
              "      box-shadow: 0px 1px 3px 1px rgba(0, 0, 0, 0.15);\n",
              "      filter: drop-shadow(0px 1px 2px rgba(0, 0, 0, 0.3));\n",
              "      fill: #FFFFFF;\n",
              "    }\n",
              "  </style>\n",
              "\n",
              "      <script>\n",
              "        const buttonEl =\n",
              "          document.querySelector('#df-f1735eee-b8ff-4f47-a211-13a2f3e5d678 button.colab-df-convert');\n",
              "        buttonEl.style.display =\n",
              "          google.colab.kernel.accessAllowed ? 'block' : 'none';\n",
              "\n",
              "        async function convertToInteractive(key) {\n",
              "          const element = document.querySelector('#df-f1735eee-b8ff-4f47-a211-13a2f3e5d678');\n",
              "          const dataTable =\n",
              "            await google.colab.kernel.invokeFunction('convertToInteractive',\n",
              "                                                     [key], {});\n",
              "          if (!dataTable) return;\n",
              "\n",
              "          const docLinkHtml = 'Like what you see? Visit the ' +\n",
              "            '<a target=\"_blank\" href=https://colab.research.google.com/notebooks/data_table.ipynb>data table notebook</a>'\n",
              "            + ' to learn more about interactive tables.';\n",
              "          element.innerHTML = '';\n",
              "          dataTable['output_type'] = 'display_data';\n",
              "          await google.colab.output.renderOutput(dataTable, element);\n",
              "          const docLink = document.createElement('div');\n",
              "          docLink.innerHTML = docLinkHtml;\n",
              "          element.appendChild(docLink);\n",
              "        }\n",
              "      </script>\n",
              "    </div>\n",
              "  </div>\n",
              "  "
            ],
            "text/plain": [
              "          PEOE_VSA11     SlogP_VSA7  ...      PEOE_VSA9    EState_VSA4\n",
              "count  148874.000000  148874.000000  ...  148874.000000  148874.000000\n",
              "mean        4.410946       1.448182  ...      12.789611      15.362602\n",
              "std         9.213530       9.204678  ...      14.231717      16.955920\n",
              "min      -666.000000    -666.000000  ...    -666.000000    -666.000000\n",
              "25%         0.000000       0.000000  ...       4.923311       4.567100\n",
              "50%         0.000000       0.000000  ...      11.250838      11.761885\n",
              "75%         6.227901       0.000000  ...      18.628754      23.092831\n",
              "max       141.543529     405.914704  ...     442.858989     305.411057\n",
              "\n",
              "[8 rows x 27 columns]"
            ]
          },
          "metadata": {},
          "execution_count": 85
        }
      ]
    },
    {
      "cell_type": "code",
      "source": [
        "print(\"PEOE_VSA11\")\n",
        "X_selected['PEOE_VSA11'].plot.kde()"
      ],
      "metadata": {
        "colab": {
          "base_uri": "https://localhost:8080/",
          "height": 299
        },
        "id": "iYPp67GpSQhN",
        "outputId": "f29f54ca-c896-4d5a-afaa-2cc45a6b5cd3"
      },
      "execution_count": 84,
      "outputs": [
        {
          "output_type": "stream",
          "name": "stdout",
          "text": [
            "PEOE_VSA11\n"
          ]
        },
        {
          "output_type": "execute_result",
          "data": {
            "text/plain": [
              "<matplotlib.axes._subplots.AxesSubplot at 0x7f1519cf7890>"
            ]
          },
          "metadata": {},
          "execution_count": 84
        },
        {
          "output_type": "display_data",
          "data": {
            "image/png": "[encoded data removed]",
            "text/plain": [
              "<Figure size 432x288 with 1 Axes>"
            ]
          },
          "metadata": {
            "needs_background": "light"
          }
        }
      ]
    },
    {
      "cell_type": "code",
      "source": [
        "print(\"SlogP_VSA7\")\n",
        "X_selected['SlogP_VSA7'].plot.kde()"
      ],
      "metadata": {
        "colab": {
          "base_uri": "https://localhost:8080/",
          "height": 299
        },
        "id": "qxMzIvjvSVUM",
        "outputId": "17853433-1d6f-4bef-88a2-a611c5b1feb5"
      },
      "execution_count": 68,
      "outputs": [
        {
          "output_type": "stream",
          "name": "stdout",
          "text": [
            "SlogP_VSA7\n"
          ]
        },
        {
          "output_type": "execute_result",
          "data": {
            "text/plain": [
              "<matplotlib.axes._subplots.AxesSubplot at 0x7f151a2eb050>"
            ]
          },
          "metadata": {},
          "execution_count": 68
        },
        {
          "output_type": "display_data",
          "data": {
            "image/png": "[encoded data removed]",
            "text/plain": [
              "<Figure size 432x288 with 1 Axes>"
            ]
          },
          "metadata": {
            "needs_background": "light"
          }
        }
      ]
    },
    {
      "cell_type": "code",
      "source": [
        "print(\"PEOE_VSA2\")\n",
        "X_selected['PEOE_VSA2'].plot.kde()"
      ],
      "metadata": {
        "colab": {
          "base_uri": "https://localhost:8080/",
          "height": 299
        },
        "id": "oPllb6hvSZTc",
        "outputId": "1dcfe45d-f98b-40dc-a008-7691bdbfb92f"
      },
      "execution_count": 69,
      "outputs": [
        {
          "output_type": "stream",
          "name": "stdout",
          "text": [
            "PEOE_VSA2\n"
          ]
        },
        {
          "output_type": "execute_result",
          "data": {
            "text/plain": [
              "<matplotlib.axes._subplots.AxesSubplot at 0x7f151a2d93d0>"
            ]
          },
          "metadata": {},
          "execution_count": 69
        },
        {
          "output_type": "display_data",
          "data": {
            "image/png": "[encoded data removed]",
            "text/plain": [
              "<Figure size 432x288 with 1 Axes>"
            ]
          },
          "metadata": {
            "needs_background": "light"
          }
        }
      ]
    },
    {
      "cell_type": "code",
      "source": [
        "print(\"SMR_VSA1\")\n",
        "X_selected['SMR_VSA1'].plot.kde()"
      ],
      "metadata": {
        "colab": {
          "base_uri": "https://localhost:8080/",
          "height": 301
        },
        "id": "YAdj7wNJSfHO",
        "outputId": "dda7d20d-33f5-49df-bc55-263e0342c181"
      },
      "execution_count": 70,
      "outputs": [
        {
          "output_type": "stream",
          "name": "stdout",
          "text": [
            "SMR_VSA1\n"
          ]
        },
        {
          "output_type": "execute_result",
          "data": {
            "text/plain": [
              "<matplotlib.axes._subplots.AxesSubplot at 0x7f151a24bad0>"
            ]
          },
          "metadata": {},
          "execution_count": 70
        },
        {
          "output_type": "display_data",
          "data": {
            "image/png": "[encoded data removed]",
            "text/plain": [
              "<Figure size 432x288 with 1 Axes>"
            ]
          },
          "metadata": {
            "needs_background": "light"
          }
        }
      ]
    },
    {
      "cell_type": "code",
      "source": [
        "print(\"PEOE_VSA3\")\n",
        "X_selected['PEOE_VSA3'].plot.kde()"
      ],
      "metadata": {
        "colab": {
          "base_uri": "https://localhost:8080/",
          "height": 300
        },
        "id": "xQlawtTmSknr",
        "outputId": "d460746e-8b31-4e19-ef93-d6d1eeca48a1"
      },
      "execution_count": 71,
      "outputs": [
        {
          "output_type": "stream",
          "name": "stdout",
          "text": [
            "PEOE_VSA3\n"
          ]
        },
        {
          "output_type": "execute_result",
          "data": {
            "text/plain": [
              "<matplotlib.axes._subplots.AxesSubplot at 0x7f151a1bc590>"
            ]
          },
          "metadata": {},
          "execution_count": 71
        },
        {
          "output_type": "display_data",
          "data": {
            "image/png": "[encoded data removed]",
            "text/plain": [
              "<Figure size 432x288 with 1 Axes>"
            ]
          },
          "metadata": {
            "needs_background": "light"
          }
        }
      ]
    },
    {
      "cell_type": "code",
      "source": [
        "print(\"SlogP_VSA1\")\n",
        "X_selected['SlogP_VSA1'].plot.kde()"
      ],
      "metadata": {
        "colab": {
          "base_uri": "https://localhost:8080/",
          "height": 299
        },
        "id": "WzGeZxWJSo4H",
        "outputId": "74bcb630-4162-4674-ba31-a8da5d455f84"
      },
      "execution_count": 72,
      "outputs": [
        {
          "output_type": "stream",
          "name": "stdout",
          "text": [
            "SlogP_VSA1\n"
          ]
        },
        {
          "output_type": "execute_result",
          "data": {
            "text/plain": [
              "<matplotlib.axes._subplots.AxesSubplot at 0x7f151a194d90>"
            ]
          },
          "metadata": {},
          "execution_count": 72
        },
        {
          "output_type": "display_data",
          "data": {
            "image/png": "[encoded data removed]",
            "text/plain": [
              "<Figure size 432x288 with 1 Axes>"
            ]
          },
          "metadata": {
            "needs_background": "light"
          }
        }
      ]
    },
    {
      "cell_type": "code",
      "source": [
        "print(\"SMR_VSA9\")\n",
        "X_selected['SMR_VSA9'].plot.kde()"
      ],
      "metadata": {
        "colab": {
          "base_uri": "https://localhost:8080/",
          "height": 299
        },
        "id": "D16JVCWKStGc",
        "outputId": "bb98bb9c-4fbd-4f85-864d-bb044a9a5b2b"
      },
      "execution_count": 73,
      "outputs": [
        {
          "output_type": "stream",
          "name": "stdout",
          "text": [
            "SMR_VSA9\n"
          ]
        },
        {
          "output_type": "execute_result",
          "data": {
            "text/plain": [
              "<matplotlib.axes._subplots.AxesSubplot at 0x7f151a10c290>"
            ]
          },
          "metadata": {},
          "execution_count": 73
        },
        {
          "output_type": "display_data",
          "data": {
            "image/png": "[encoded data removed]",
            "text/plain": [
              "<Figure size 432x288 with 1 Axes>"
            ]
          },
          "metadata": {
            "needs_background": "light"
          }
        }
      ]
    },
    {
      "cell_type": "code",
      "source": [
        "print(\"VSA_EState2\")\n",
        "X_selected['VSA_EState2'].plot.kde()"
      ],
      "metadata": {
        "colab": {
          "base_uri": "https://localhost:8080/",
          "height": 299
        },
        "id": "oa3BflDHS14I",
        "outputId": "37d9f354-5454-4ec5-f5e4-4eff7868a414"
      },
      "execution_count": 74,
      "outputs": [
        {
          "output_type": "stream",
          "name": "stdout",
          "text": [
            "VSA_EState2\n"
          ]
        },
        {
          "output_type": "execute_result",
          "data": {
            "text/plain": [
              "<matplotlib.axes._subplots.AxesSubplot at 0x7f151a073110>"
            ]
          },
          "metadata": {},
          "execution_count": 74
        },
        {
          "output_type": "display_data",
          "data": {
            "image/png": "[encoded data removed]",
            "text/plain": [
              "<Figure size 432x288 with 1 Axes>"
            ]
          },
          "metadata": {
            "needs_background": "light"
          }
        }
      ]
    },
    {
      "cell_type": "code",
      "source": [
        "print(\"EState_VSA2\")\n",
        "X_selected['EState_VSA2'].plot.kde()"
      ],
      "metadata": {
        "colab": {
          "base_uri": "https://localhost:8080/",
          "height": 299
        },
        "id": "8NZtkdwTS5a-",
        "outputId": "799ef975-064f-4c53-8c23-c9a34a0abd8d"
      },
      "execution_count": 75,
      "outputs": [
        {
          "output_type": "stream",
          "name": "stdout",
          "text": [
            "EState_VSA2\n"
          ]
        },
        {
          "output_type": "execute_result",
          "data": {
            "text/plain": [
              "<matplotlib.axes._subplots.AxesSubplot at 0x7f151a052150>"
            ]
          },
          "metadata": {},
          "execution_count": 75
        },
        {
          "output_type": "display_data",
          "data": {
            "image/png": "[encoded data removed]",
            "text/plain": [
              "<Figure size 432x288 with 1 Axes>"
            ]
          },
          "metadata": {
            "needs_background": "light"
          }
        }
      ]
    },
    {
      "cell_type": "code",
      "source": [
        "print(\"TPSA\")\n",
        "X_selected['TPSA'].plot.kde()"
      ],
      "metadata": {
        "colab": {
          "base_uri": "https://localhost:8080/",
          "height": 299
        },
        "id": "bRtaipKRS-QG",
        "outputId": "e09bfaa6-fd82-4186-b85b-78d7c42c66f5"
      },
      "execution_count": 76,
      "outputs": [
        {
          "output_type": "stream",
          "name": "stdout",
          "text": [
            "TPSA\n"
          ]
        },
        {
          "output_type": "execute_result",
          "data": {
            "text/plain": [
              "<matplotlib.axes._subplots.AxesSubplot at 0x7f1519fd1590>"
            ]
          },
          "metadata": {},
          "execution_count": 76
        },
        {
          "output_type": "display_data",
          "data": {
            "image/png": "[encoded data removed]",
            "text/plain": [
              "<Figure size 432x288 with 1 Axes>"
            ]
          },
          "metadata": {
            "needs_background": "light"
          }
        }
      ]
    },
    {
      "cell_type": "code",
      "source": [
        "print(\"SlogP_VSA10\")\n",
        "X_selected['SlogP_VSA10'].plot.kde()"
      ],
      "metadata": {
        "colab": {
          "base_uri": "https://localhost:8080/",
          "height": 299
        },
        "id": "aK-d4qfNTCXZ",
        "outputId": "73f825c1-5881-4efb-d315-ba49ac0a9db7"
      },
      "execution_count": 77,
      "outputs": [
        {
          "output_type": "stream",
          "name": "stdout",
          "text": [
            "SlogP_VSA10\n"
          ]
        },
        {
          "output_type": "execute_result",
          "data": {
            "text/plain": [
              "<matplotlib.axes._subplots.AxesSubplot at 0x7f1519f34b10>"
            ]
          },
          "metadata": {},
          "execution_count": 77
        },
        {
          "output_type": "display_data",
          "data": {
            "image/png": "[encoded data removed]",
            "text/plain": [
              "<Figure size 432x288 with 1 Axes>"
            ]
          },
          "metadata": {
            "needs_background": "light"
          }
        }
      ]
    },
    {
      "cell_type": "code",
      "source": [
        "print(\"PEOE_VSA10\")\n",
        "X_selected['PEOE_VSA10'].plot.kde()"
      ],
      "metadata": {
        "colab": {
          "base_uri": "https://localhost:8080/",
          "height": 299
        },
        "id": "Rnu7fXNMTG02",
        "outputId": "92ceb003-e9c4-4fad-d6c3-8dc7154e2480"
      },
      "execution_count": 80,
      "outputs": [
        {
          "output_type": "stream",
          "name": "stdout",
          "text": [
            "PEOE_VSA10\n"
          ]
        },
        {
          "output_type": "execute_result",
          "data": {
            "text/plain": [
              "<matplotlib.axes._subplots.AxesSubplot at 0x7f1519eb5bd0>"
            ]
          },
          "metadata": {},
          "execution_count": 80
        },
        {
          "output_type": "display_data",
          "data": {
            "image/png": "[encoded data removed]",
            "text/plain": [
              "<Figure size 432x288 with 1 Axes>"
            ]
          },
          "metadata": {
            "needs_background": "light"
          }
        }
      ]
    },
    {
      "cell_type": "code",
      "source": [
        "print(\"SlogP_VSA4\")\n",
        "X_selected['SlogP_VSA4'].plot.kde()"
      ],
      "metadata": {
        "colab": {
          "base_uri": "https://localhost:8080/",
          "height": 299
        },
        "id": "1eGd7ETJTP7G",
        "outputId": "27581d8c-07cb-4dee-b57d-0523fb89a149"
      },
      "execution_count": 81,
      "outputs": [
        {
          "output_type": "stream",
          "name": "stdout",
          "text": [
            "SlogP_VSA4\n"
          ]
        },
        {
          "output_type": "execute_result",
          "data": {
            "text/plain": [
              "<matplotlib.axes._subplots.AxesSubplot at 0x7f1519f1e5d0>"
            ]
          },
          "metadata": {},
          "execution_count": 81
        },
        {
          "output_type": "display_data",
          "data": {
            "image/png": "[encoded data removed]",
            "text/plain": [
              "<Figure size 432x288 with 1 Axes>"
            ]
          },
          "metadata": {
            "needs_background": "light"
          }
        }
      ]
    },
    {
      "cell_type": "code",
      "source": [
        "print(\"SMR_VSA7\")\n",
        "X_selected['SMR_VSA7'].plot.kde()"
      ],
      "metadata": {
        "colab": {
          "base_uri": "https://localhost:8080/",
          "height": 299
        },
        "id": "yKR_8zvjTelR",
        "outputId": "606a18e4-d32a-4fdb-ab6e-d5105578266c"
      },
      "execution_count": 82,
      "outputs": [
        {
          "output_type": "stream",
          "name": "stdout",
          "text": [
            "SMR_VSA7\n"
          ]
        },
        {
          "output_type": "execute_result",
          "data": {
            "text/plain": [
              "<matplotlib.axes._subplots.AxesSubplot at 0x7f1519e17ed0>"
            ]
          },
          "metadata": {},
          "execution_count": 82
        },
        {
          "output_type": "display_data",
          "data": {
            "image/png": "[encoded data removed]",
            "text/plain": [
              "<Figure size 432x288 with 1 Axes>"
            ]
          },
          "metadata": {
            "needs_background": "light"
          }
        }
      ]
    },
    {
      "cell_type": "code",
      "source": [
        "print(\"VSA_EState9\")\n",
        "X_selected['VSA_EState9'].plot.kde()"
      ],
      "metadata": {
        "colab": {
          "base_uri": "https://localhost:8080/",
          "height": 299
        },
        "id": "3zSg22eZThtd",
        "outputId": "dd65a1b6-2de7-4ee1-bd23-772766d01e63"
      },
      "execution_count": 83,
      "outputs": [
        {
          "output_type": "stream",
          "name": "stdout",
          "text": [
            "VSA_EState9\n"
          ]
        },
        {
          "output_type": "execute_result",
          "data": {
            "text/plain": [
              "<matplotlib.axes._subplots.AxesSubplot at 0x7f1519de06d0>"
            ]
          },
          "metadata": {},
          "execution_count": 83
        },
        {
          "output_type": "display_data",
          "data": {
            "image/png": "[encoded data removed]",
            "text/plain": [
              "<Figure size 432x288 with 1 Axes>"
            ]
          },
          "metadata": {
            "needs_background": "light"
          }
        }
      ]
    },
    {
      "cell_type": "code",
      "source": [
        "print(\"EState_VSA6\")\n",
        "X_selected['EState_VSA6'].plot.kde()"
      ],
      "metadata": {
        "colab": {
          "base_uri": "https://localhost:8080/",
          "height": 299
        },
        "id": "LH4eBB5KFHrv",
        "outputId": "7acda034-e30f-46f0-ea61-8e6cf0f6b492"
      },
      "execution_count": null,
      "outputs": [
        {
          "output_type": "stream",
          "name": "stdout",
          "text": [
            "EState_VSA6\n"
          ]
        },
        {
          "output_type": "execute_result",
          "data": {
            "text/plain": [
              "<matplotlib.axes._subplots.AxesSubplot at 0x7f151a8fe750>"
            ]
          },
          "metadata": {},
          "execution_count": 53
        },
        {
          "output_type": "display_data",
          "data": {
            "image/png": "[encoded data removed]",
            "text/plain": [
              "<Figure size 432x288 with 1 Axes>"
            ]
          },
          "metadata": {
            "needs_background": "light"
          }
        }
      ]
    },
    {
      "cell_type": "code",
      "source": [
        "print(\"SMR_VSA4\")\n",
        "X_selected['SMR_VSA4'].plot.kde()"
      ],
      "metadata": {
        "colab": {
          "base_uri": "https://localhost:8080/",
          "height": 299
        },
        "id": "heyzlFuRNjYH",
        "outputId": "1222eb4e-8937-4cb3-c52f-fb69987a9d7b"
      },
      "execution_count": null,
      "outputs": [
        {
          "output_type": "stream",
          "name": "stdout",
          "text": [
            "SMR_VSA4\n"
          ]
        },
        {
          "output_type": "execute_result",
          "data": {
            "text/plain": [
              "<matplotlib.axes._subplots.AxesSubplot at 0x7f151a8cb190>"
            ]
          },
          "metadata": {},
          "execution_count": 54
        },
        {
          "output_type": "display_data",
          "data": {
            "image/png": "[encoded data removed]",
            "text/plain": [
              "<Figure size 432x288 with 1 Axes>"
            ]
          },
          "metadata": {
            "needs_background": "light"
          }
        }
      ]
    },
    {
      "cell_type": "code",
      "source": [
        "print(\"LabuteASA\")\n",
        "X_selected['LabuteASA'].plot.kde()"
      ],
      "metadata": {
        "colab": {
          "base_uri": "https://localhost:8080/",
          "height": 299
        },
        "id": "gU0yihlcNsrr",
        "outputId": "624264d6-f6aa-4010-de56-e19c08c688d9"
      },
      "execution_count": null,
      "outputs": [
        {
          "output_type": "stream",
          "name": "stdout",
          "text": [
            "LabuteASA\n"
          ]
        },
        {
          "output_type": "execute_result",
          "data": {
            "text/plain": [
              "<matplotlib.axes._subplots.AxesSubplot at 0x7f151a83b950>"
            ]
          },
          "metadata": {},
          "execution_count": 55
        },
        {
          "output_type": "display_data",
          "data": {
            "image/png": "[encoded data removed]",
            "text/plain": [
              "<Figure size 432x288 with 1 Axes>"
            ]
          },
          "metadata": {
            "needs_background": "light"
          }
        }
      ]
    },
    {
      "cell_type": "code",
      "source": [
        "print(\"VSA_EState5\")\n",
        "X_selected['VSA_EState5'].plot.kde()"
      ],
      "metadata": {
        "colab": {
          "base_uri": "https://localhost:8080/",
          "height": 299
        },
        "id": "lpQYY0QWN0UD",
        "outputId": "a02686ac-4a3a-4eac-cd2f-c03549f4bc91"
      },
      "execution_count": null,
      "outputs": [
        {
          "output_type": "stream",
          "name": "stdout",
          "text": [
            "VSA_EState5\n"
          ]
        },
        {
          "output_type": "execute_result",
          "data": {
            "text/plain": [
              "<matplotlib.axes._subplots.AxesSubplot at 0x7f151a7a8050>"
            ]
          },
          "metadata": {},
          "execution_count": 56
        },
        {
          "output_type": "display_data",
          "data": {
            "image/png": "[encoded data removed]",
            "text/plain": [
              "<Figure size 432x288 with 1 Axes>"
            ]
          },
          "metadata": {
            "needs_background": "light"
          }
        }
      ]
    },
    {
      "cell_type": "code",
      "source": [
        "print(\"SMR_VSA2\")\n",
        "X_selected['SMR_VSA2'].plot.kde()"
      ],
      "metadata": {
        "colab": {
          "base_uri": "https://localhost:8080/",
          "height": 299
        },
        "id": "sgJA5IC1N9Ea",
        "outputId": "c9c8260d-bd28-491b-8ac6-ece107498a41"
      },
      "execution_count": null,
      "outputs": [
        {
          "output_type": "stream",
          "name": "stdout",
          "text": [
            "SMR_VSA2\n"
          ]
        },
        {
          "output_type": "execute_result",
          "data": {
            "text/plain": [
              "<matplotlib.axes._subplots.AxesSubplot at 0x7f151a7291d0>"
            ]
          },
          "metadata": {},
          "execution_count": 57
        },
        {
          "output_type": "display_data",
          "data": {
            "image/png": "[encoded data removed]",
            "text/plain": [
              "<Figure size 432x288 with 1 Axes>"
            ]
          },
          "metadata": {
            "needs_background": "light"
          }
        }
      ]
    },
    {
      "cell_type": "code",
      "source": [
        "print(\"PEOE_VSA12\")\n",
        "X_selected['PEOE_VSA12'].plot.kde(bw_method=0.1)"
      ],
      "metadata": {
        "colab": {
          "base_uri": "https://localhost:8080/",
          "height": 299
        },
        "id": "_qMh07ThOGs3",
        "outputId": "86775546-9290-42e4-f44d-bcc44218882a"
      },
      "execution_count": null,
      "outputs": [
        {
          "output_type": "stream",
          "name": "stdout",
          "text": [
            "PEOE_VSA12\n"
          ]
        },
        {
          "output_type": "execute_result",
          "data": {
            "text/plain": [
              "<matplotlib.axes._subplots.AxesSubplot at 0x7f151a689550>"
            ]
          },
          "metadata": {},
          "execution_count": 59
        },
        {
          "output_type": "display_data",
          "data": {
            "image/png": "[encoded data removed]",
            "text/plain": [
              "<Figure size 432x288 with 1 Axes>"
            ]
          },
          "metadata": {
            "needs_background": "light"
          }
        }
      ]
    },
    {
      "cell_type": "code",
      "source": [
        "print(\"SMR_VSA5\")\n",
        "X_selected['SMR_VSA5'].plot.kde()"
      ],
      "metadata": {
        "colab": {
          "base_uri": "https://localhost:8080/",
          "height": 299
        },
        "id": "TFe9amftOMEJ",
        "outputId": "71316605-220e-4eed-a53e-c50f9b853f9b"
      },
      "execution_count": null,
      "outputs": [
        {
          "output_type": "stream",
          "name": "stdout",
          "text": [
            "SMR_VSA5\n"
          ]
        },
        {
          "output_type": "execute_result",
          "data": {
            "text/plain": [
              "<matplotlib.axes._subplots.AxesSubplot at 0x7f151a64be90>"
            ]
          },
          "metadata": {},
          "execution_count": 60
        },
        {
          "output_type": "display_data",
          "data": {
            "image/png": "[encoded data removed]",
            "text/plain": [
              "<Figure size 432x288 with 1 Axes>"
            ]
          },
          "metadata": {
            "needs_background": "light"
          }
        }
      ]
    },
    {
      "cell_type": "code",
      "source": [
        "print(\"PEOE_VSA7\")\n",
        "X_selected['PEOE_VSA7'].plot.kde()"
      ],
      "metadata": {
        "colab": {
          "base_uri": "https://localhost:8080/",
          "height": 299
        },
        "id": "crR5vWApOaPM",
        "outputId": "3f218362-5ff3-4eb8-83a0-7117716e90d1"
      },
      "execution_count": null,
      "outputs": [
        {
          "output_type": "stream",
          "name": "stdout",
          "text": [
            "PEOE_VSA7\n"
          ]
        },
        {
          "output_type": "execute_result",
          "data": {
            "text/plain": [
              "<matplotlib.axes._subplots.AxesSubplot at 0x7f151a5dd750>"
            ]
          },
          "metadata": {},
          "execution_count": 61
        },
        {
          "output_type": "display_data",
          "data": {
            "image/png": "[encoded data removed]",
            "text/plain": [
              "<Figure size 432x288 with 1 Axes>"
            ]
          },
          "metadata": {
            "needs_background": "light"
          }
        }
      ]
    },
    {
      "cell_type": "code",
      "source": [
        "print(\"SMR_VSA3\")\n",
        "X_selected['SMR_VSA3'].plot.kde()"
      ],
      "metadata": {
        "colab": {
          "base_uri": "https://localhost:8080/",
          "height": 299
        },
        "id": "O5GLIJ4AOeJb",
        "outputId": "eafb3751-db32-4a8f-b5cd-6b405712167b"
      },
      "execution_count": null,
      "outputs": [
        {
          "output_type": "stream",
          "name": "stdout",
          "text": [
            "SMR_VSA3\n"
          ]
        },
        {
          "output_type": "execute_result",
          "data": {
            "text/plain": [
              "<matplotlib.axes._subplots.AxesSubplot at 0x7f151a535110>"
            ]
          },
          "metadata": {},
          "execution_count": 62
        },
        {
          "output_type": "display_data",
          "data": {
            "image/png": "[encoded data removed]",
            "text/plain": [
              "<Figure size 432x288 with 1 Axes>"
            ]
          },
          "metadata": {
            "needs_background": "light"
          }
        }
      ]
    },
    {
      "cell_type": "code",
      "source": [
        "print(\"VSA_EState4\")\n",
        "X_selected['VSA_EState4'].plot.kde()"
      ],
      "metadata": {
        "colab": {
          "base_uri": "https://localhost:8080/",
          "height": 299
        },
        "id": "CTK8qes5Ok9q",
        "outputId": "05d7ab77-0aeb-4408-89d1-d0343d59d739"
      },
      "execution_count": null,
      "outputs": [
        {
          "output_type": "stream",
          "name": "stdout",
          "text": [
            "VSA_EState4\n"
          ]
        },
        {
          "output_type": "execute_result",
          "data": {
            "text/plain": [
              "<matplotlib.axes._subplots.AxesSubplot at 0x7f151a4aec10>"
            ]
          },
          "metadata": {},
          "execution_count": 63
        },
        {
          "output_type": "display_data",
          "data": {
            "image/png": "[encoded data removed]",
            "text/plain": [
              "<Figure size 432x288 with 1 Axes>"
            ]
          },
          "metadata": {
            "needs_background": "light"
          }
        }
      ]
    },
    {
      "cell_type": "code",
      "source": [
        "print(\"PEOE_VSA9\")\n",
        "X_selected['PEOE_VSA9'].plot.kde()"
      ],
      "metadata": {
        "colab": {
          "base_uri": "https://localhost:8080/",
          "height": 299
        },
        "id": "1UJzeoBWOuDN",
        "outputId": "16d8bb55-dc40-4906-9396-c0fff4595250"
      },
      "execution_count": null,
      "outputs": [
        {
          "output_type": "stream",
          "name": "stdout",
          "text": [
            "PEOE_VSA9\n"
          ]
        },
        {
          "output_type": "execute_result",
          "data": {
            "text/plain": [
              "<matplotlib.axes._subplots.AxesSubplot at 0x7f151a42fd50>"
            ]
          },
          "metadata": {},
          "execution_count": 64
        },
        {
          "output_type": "display_data",
          "data": {
            "image/png": "[encoded data removed]",
            "text/plain": [
              "<Figure size 432x288 with 1 Axes>"
            ]
          },
          "metadata": {
            "needs_background": "light"
          }
        }
      ]
    },
    {
      "cell_type": "code",
      "source": [
        "print(\"EState_VSA4\")\n",
        "X_selected['EState_VSA4'].plot.kde()"
      ],
      "metadata": {
        "colab": {
          "base_uri": "https://localhost:8080/",
          "height": 302
        },
        "id": "GsdanNJ7Ozpj",
        "outputId": "1c73adb8-9bf0-4aa0-b4f3-35f5872bbbf7"
      },
      "execution_count": null,
      "outputs": [
        {
          "output_type": "stream",
          "name": "stdout",
          "text": [
            "EState_VSA4\n"
          ]
        },
        {
          "output_type": "execute_result",
          "data": {
            "text/plain": [
              "<matplotlib.axes._subplots.AxesSubplot at 0x7f151a415650>"
            ]
          },
          "metadata": {},
          "execution_count": 65
        },
        {
          "output_type": "display_data",
          "data": {
            "image/png": "[encoded data removed]",
            "text/plain": [
              "<Figure size 432x288 with 1 Axes>"
            ]
          },
          "metadata": {
            "needs_background": "light"
          }
        }
      ]
    },
    {
      "cell_type": "markdown",
      "source": [
        "##KDE plots for divided dataset"
      ],
      "metadata": {
        "id": "GoSyiofxWYHC"
      }
    },
    {
      "cell_type": "code",
      "source": [
        "import seaborn as sns\n",
        "from matplotlib import pyplot as plt\n",
        "from matplotlib.gridspec import GridSpec\n",
        "for feature in dataset_selected.columns:\n",
        "    print(feature)\n",
        "    #sns.boxplot(data=data,x=data.target,y=data[feature])\n",
        "    gs1 = GridSpec(3,1)\n",
        "    ax1 = plt.subplot(gs1[:-1])\n",
        "    #ax2 = plt.subplot(gs1[-1])\n",
        "    gs1.update(right=0.60)\n",
        "    #sns.boxplot(x=feature,y='Antiviral Property',data=dataset_selected,ax=ax2)\n",
        "    sns.kdeplot(dataset_selected[feature][dataset_selected['Antiviral Property']==0],ax=ax1,label='0', c='r')\n",
        "    sns.kdeplot(dataset_selected[feature][dataset_selected['Antiviral Property']==1],ax=ax1,label='1',c='g')\n",
        "    #ax2.yaxis.label.set_visible(False)\n",
        "    ax1.xaxis.set_visible(False)\n",
        "    plt.legend()\n",
        "    plt.show()\n"
      ],
      "metadata": {
        "colab": {
          "base_uri": "https://localhost:8080/",
          "height": 1000
        },
        "id": "vnXAPeslWcW7",
        "outputId": "400588ee-6c2f-43e0-95ce-91d685ed3047"
      },
      "execution_count": 102,
      "outputs": [
        {
          "output_type": "stream",
          "name": "stdout",
          "text": [
            "SlogP_VSA7\n"
          ]
        },
        {
          "output_type": "display_data",
          "data": {
            "image/png": "[encoded data removed]",
            "text/plain": [
              "<Figure size 432x288 with 1 Axes>"
            ]
          },
          "metadata": {
            "needs_background": "light"
          }
        },
        {
          "output_type": "stream",
          "name": "stdout",
          "text": [
            "PEOE_VSA2\n"
          ]
        },
        {
          "output_type": "display_data",
          "data": {
            "image/png": "[encoded data removed]",
            "text/plain": [
              "<Figure size 432x288 with 1 Axes>"
            ]
          },
          "metadata": {
            "needs_background": "light"
          }
        },
        {
          "output_type": "stream",
          "name": "stdout",
          "text": [
            "SMR_VSA1\n"
          ]
        },
        {
          "output_type": "display_data",
          "data": {
            "image/png": "[encoded data removed]",
            "text/plain": [
              "<Figure size 432x288 with 1 Axes>"
            ]
          },
          "metadata": {
            "needs_background": "light"
          }
        },
        {
          "output_type": "stream",
          "name": "stdout",
          "text": [
            "PEOE_VSA3\n"
          ]
        },
        {
          "output_type": "display_data",
          "data": {
            "image/png": "[encoded data removed]",
            "text/plain": [
              "<Figure size 432x288 with 1 Axes>"
            ]
          },
          "metadata": {
            "needs_background": "light"
          }
        },
        {
          "output_type": "stream",
          "name": "stdout",
          "text": [
            "SlogP_VSA1\n"
          ]
        },
        {
          "output_type": "display_data",
          "data": {
            "image/png": "[encoded data removed]",
            "text/plain": [
              "<Figure size 432x288 with 1 Axes>"
            ]
          },
          "metadata": {
            "needs_background": "light"
          }
        },
        {
          "output_type": "stream",
          "name": "stdout",
          "text": [
            "SMR_VSA9\n"
          ]
        },
        {
          "output_type": "display_data",
          "data": {
            "image/png": "[encoded data removed]",
            "text/plain": [
              "<Figure size 432x288 with 1 Axes>"
            ]
          },
          "metadata": {
            "needs_background": "light"
          }
        },
        {
          "output_type": "stream",
          "name": "stdout",
          "text": [
            "VSA_EState2\n"
          ]
        },
        {
          "output_type": "display_data",
          "data": {
            "image/png": "[encoded data removed]",
            "text/plain": [
              "<Figure size 432x288 with 1 Axes>"
            ]
          },
          "metadata": {
            "needs_background": "light"
          }
        },
        {
          "output_type": "stream",
          "name": "stdout",
          "text": [
            "EState_VSA2\n"
          ]
        },
        {
          "output_type": "display_data",
          "data": {
            "image/png": "[encoded data removed]",
            "text/plain": [
              "<Figure size 432x288 with 1 Axes>"
            ]
          },
          "metadata": {
            "needs_background": "light"
          }
        },
        {
          "output_type": "stream",
          "name": "stdout",
          "text": [
            "TPSA\n"
          ]
        },
        {
          "output_type": "display_data",
          "data": {
            "image/png": "[encoded data removed]",
            "text/plain": [
              "<Figure size 432x288 with 1 Axes>"
            ]
          },
          "metadata": {
            "needs_background": "light"
          }
        },
        {
          "output_type": "stream",
          "name": "stdout",
          "text": [
            "SlogP_VSA10\n"
          ]
        },
        {
          "output_type": "display_data",
          "data": {
            "image/png": "[encoded data removed]",
            "text/plain": [
              "<Figure size 432x288 with 1 Axes>"
            ]
          },
          "metadata": {
            "needs_background": "light"
          }
        },
        {
          "output_type": "stream",
          "name": "stdout",
          "text": [
            "PEOE_VSA10\n"
          ]
        },
        {
          "output_type": "display_data",
          "data": {
            "image/png": "[encoded data removed]",
            "text/plain": [
              "<Figure size 432x288 with 1 Axes>"
            ]
          },
          "metadata": {
            "needs_background": "light"
          }
        },
        {
          "output_type": "stream",
          "name": "stdout",
          "text": [
            "SlogP_VSA4\n"
          ]
        },
        {
          "output_type": "display_data",
          "data": {
            "image/png": "[encoded data removed]",
            "text/plain": [
              "<Figure size 432x288 with 1 Axes>"
            ]
          },
          "metadata": {
            "needs_background": "light"
          }
        },
        {
          "output_type": "stream",
          "name": "stdout",
          "text": [
            "SMR_VSA7\n"
          ]
        },
        {
          "output_type": "display_data",
          "data": {
            "image/png": "[encoded data removed]",
            "text/plain": [
              "<Figure size 432x288 with 1 Axes>"
            ]
          },
          "metadata": {
            "needs_background": "light"
          }
        },
        {
          "output_type": "stream",
          "name": "stdout",
          "text": [
            "VSA_EState9\n"
          ]
        },
        {
          "output_type": "display_data",
          "data": {
            "image/png": "[encoded data removed]",
            "text/plain": [
              "<Figure size 432x288 with 1 Axes>"
            ]
          },
          "metadata": {
            "needs_background": "light"
          }
        },
        {
          "output_type": "stream",
          "name": "stdout",
          "text": [
            "EState_VSA6\n"
          ]
        },
        {
          "output_type": "display_data",
          "data": {
            "image/png": "[encoded data removed]",
            "text/plain": [
              "<Figure size 432x288 with 1 Axes>"
            ]
          },
          "metadata": {
            "needs_background": "light"
          }
        },
        {
          "output_type": "stream",
          "name": "stdout",
          "text": [
            "SMR_VSA4\n"
          ]
        },
        {
          "output_type": "display_data",
          "data": {
            "image/png": "[encoded data removed]",
            "text/plain": [
              "<Figure size 432x288 with 1 Axes>"
            ]
          },
          "metadata": {
            "needs_background": "light"
          }
        },
        {
          "output_type": "stream",
          "name": "stdout",
          "text": [
            "LabuteASA\n"
          ]
        },
        {
          "output_type": "display_data",
          "data": {
            "image/png": "[encoded data removed]",
            "text/plain": [
              "<Figure size 432x288 with 1 Axes>"
            ]
          },
          "metadata": {
            "needs_background": "light"
          }
        },
        {
          "output_type": "stream",
          "name": "stdout",
          "text": [
            "VSA_EState5\n"
          ]
        },
        {
          "output_type": "display_data",
          "data": {
            "image/png": "[encoded data removed]",
            "text/plain": [
              "<Figure size 432x288 with 1 Axes>"
            ]
          },
          "metadata": {
            "needs_background": "light"
          }
        },
        {
          "output_type": "stream",
          "name": "stdout",
          "text": [
            "SMR_VSA2\n"
          ]
        },
        {
          "output_type": "display_data",
          "data": {
            "image/png": "[encoded data removed]",
            "text/plain": [
              "<Figure size 432x288 with 1 Axes>"
            ]
          },
          "metadata": {
            "needs_background": "light"
          }
        },
        {
          "output_type": "stream",
          "name": "stdout",
          "text": [
            "PEOE_VSA12\n"
          ]
        },
        {
          "output_type": "stream",
          "name": "stderr",
          "text": [
            "/usr/local/lib/python3.7/dist-packages/seaborn/distributions.py:316: UserWarning: Dataset has 0 variance; skipping density estimate. Pass `warn_singular=False` to disable this warning.\n",
            "  warnings.warn(msg, UserWarning)\n"
          ]
        },
        {
          "output_type": "display_data",
          "data": {
            "image/png": "[encoded data removed]",
            "text/plain": [
              "<Figure size 432x288 with 1 Axes>"
            ]
          },
          "metadata": {
            "needs_background": "light"
          }
        },
        {
          "output_type": "stream",
          "name": "stdout",
          "text": [
            "SMR_VSA5\n"
          ]
        },
        {
          "output_type": "display_data",
          "data": {
            "image/png": "[encoded data removed]",
            "text/plain": [
              "<Figure size 432x288 with 1 Axes>"
            ]
          },
          "metadata": {
            "needs_background": "light"
          }
        },
        {
          "output_type": "stream",
          "name": "stdout",
          "text": [
            "PEOE_VSA7\n"
          ]
        },
        {
          "output_type": "stream",
          "name": "stderr",
          "text": [
            "/usr/local/lib/python3.7/dist-packages/seaborn/distributions.py:316: UserWarning: Dataset has 0 variance; skipping density estimate. Pass `warn_singular=False` to disable this warning.\n",
            "  warnings.warn(msg, UserWarning)\n"
          ]
        },
        {
          "output_type": "display_data",
          "data": {
            "image/png": "[encoded data removed]",
            "text/plain": [
              "<Figure size 432x288 with 1 Axes>"
            ]
          },
          "metadata": {
            "needs_background": "light"
          }
        },
        {
          "output_type": "stream",
          "name": "stdout",
          "text": [
            "SMR_VSA3\n"
          ]
        },
        {
          "output_type": "display_data",
          "data": {
            "image/png": "[encoded data removed]",
            "text/plain": [
              "<Figure size 432x288 with 1 Axes>"
            ]
          },
          "metadata": {
            "needs_background": "light"
          }
        },
        {
          "output_type": "stream",
          "name": "stdout",
          "text": [
            "VSA_EState4\n"
          ]
        },
        {
          "output_type": "display_data",
          "data": {
            "image/png": "[encoded data removed]",
            "text/plain": [
              "<Figure size 432x288 with 1 Axes>"
            ]
          },
          "metadata": {
            "needs_background": "light"
          }
        },
        {
          "output_type": "stream",
          "name": "stdout",
          "text": [
            "PEOE_VSA9\n"
          ]
        },
        {
          "output_type": "display_data",
          "data": {
            "image/png": "[encoded data removed]",
            "text/plain": [
              "<Figure size 432x288 with 1 Axes>"
            ]
          },
          "metadata": {
            "needs_background": "light"
          }
        },
        {
          "output_type": "stream",
          "name": "stdout",
          "text": [
            "EState_VSA4\n"
          ]
        },
        {
          "output_type": "display_data",
          "data": {
            "image/png": "[encoded data removed]",
            "text/plain": [
              "<Figure size 432x288 with 1 Axes>"
            ]
          },
          "metadata": {
            "needs_background": "light"
          }
        },
        {
          "output_type": "stream",
          "name": "stderr",
          "text": [
            "/usr/local/lib/python3.7/dist-packages/seaborn/distributions.py:316: UserWarning: Dataset has 0 variance; skipping density estimate. Pass `warn_singular=False` to disable this warning.\n",
            "  warnings.warn(msg, UserWarning)\n",
            "/usr/local/lib/python3.7/dist-packages/seaborn/distributions.py:316: UserWarning: Dataset has 0 variance; skipping density estimate. Pass `warn_singular=False` to disable this warning.\n",
            "  warnings.warn(msg, UserWarning)\n",
            "No handles with labels found to put in legend.\n"
          ]
        },
        {
          "output_type": "stream",
          "name": "stdout",
          "text": [
            "Antiviral Property\n"
          ]
        },
        {
          "output_type": "display_data",
          "data": {
            "image/png": "[encoded data removed]",
            "text/plain": [
              "<Figure size 432x288 with 1 Axes>"
            ]
          },
          "metadata": {
            "needs_background": "light"
          }
        }
      ]
    },
    {
      "cell_type": "code",
      "source": [
        "min_overlap = ['SlogP_VSA7',\n",
        "'PEOE_VSA2',\n",
        "'SMR_VSA1',\n",
        "'PEOE_VSA3',\n",
        "'VSA_EState2',\n",
        "'EState_VSA2',\n",
        "'TPSA',\n",
        "'SlogP_VSA10',\n",
        "'SMR_VSA7',\n",
        "'VSA_EState9',\n",
        "'LabuteASA',\n",
        "'SMR_VSA2',\n",
        "'SMR_VSA5',\n",
        "]\n",
        "for i in min_overlap:\n",
        "  print(type(i))"
      ],
      "metadata": {
        "id": "fW1_Q5lKbvap"
      },
      "execution_count": null,
      "outputs": []
    },
    {
      "cell_type": "code",
      "source": [
        "selected_cols = X_selected.columns.values.tolist()"
      ],
      "metadata": {
        "id": "rrqhEGBQcQJB"
      },
      "execution_count": 108,
      "outputs": []
    },
    {
      "cell_type": "code",
      "source": [
        "max_overlap=[]\n",
        "for i in set(selected_cols)-set(min_overlap):\n",
        "  max_overlap.append(i)"
      ],
      "metadata": {
        "id": "JBjiFqyecu_Q"
      },
      "execution_count": 114,
      "outputs": []
    },
    {
      "cell_type": "code",
      "source": [
        "max_overlap"
      ],
      "metadata": {
        "colab": {
          "base_uri": "https://localhost:8080/"
        },
        "id": "Rz0J9nhbdMT4",
        "outputId": "1f36fc02-d19f-472f-f33e-6ca5c5f2b50d"
      },
      "execution_count": 115,
      "outputs": [
        {
          "output_type": "execute_result",
          "data": {
            "text/plain": [
              "['SMR_VSA9',\n",
              " 'PEOE_VSA10',\n",
              " 'PEOE_VSA12',\n",
              " 'PEOE_VSA9',\n",
              " 'PEOE_VSA7',\n",
              " 'SMR_VSA4',\n",
              " 'EState_VSA4',\n",
              " 'PEOE_VSA11',\n",
              " 'EState_VSA6',\n",
              " 'VSA_EState5',\n",
              " 'SMR_VSA3',\n",
              " 'SlogP_VSA4',\n",
              " 'SlogP_VSA1',\n",
              " 'VSA_EState4']"
            ]
          },
          "metadata": {},
          "execution_count": 115
        }
      ]
    },
    {
      "cell_type": "code",
      "source": [
        "X_max_overlap = pd.DataFrame()"
      ],
      "metadata": {
        "id": "cNEovGyHcevd"
      },
      "execution_count": 119,
      "outputs": []
    },
    {
      "cell_type": "code",
      "source": [
        "X_min_overlap = pd.DataFrame()"
      ],
      "metadata": {
        "id": "KUDZRtYxnTjq"
      },
      "execution_count": null,
      "outputs": []
    },
    {
      "cell_type": "code",
      "source": [
        "for feature in max_overlap:\n",
        "  X_max_overlap[feature] = X_selected[feature] "
      ],
      "metadata": {
        "id": "vAcmJ_TlgtC_"
      },
      "execution_count": 121,
      "outputs": []
    },
    {
      "cell_type": "code",
      "source": [
        "X_max_overlap"
      ],
      "metadata": {
        "id": "5Kr6yHB0hEoI"
      },
      "execution_count": null,
      "outputs": []
    },
    {
      "cell_type": "code",
      "source": [
        "for feature_min in min_overlap:\n",
        "  X_min_overlap[feature_min] = X_selected[feature_min] "
      ],
      "metadata": {
        "id": "shOqZpiindzH"
      },
      "execution_count": 146,
      "outputs": []
    },
    {
      "cell_type": "code",
      "source": [
        "X_min_overlap"
      ],
      "metadata": {
        "colab": {
          "base_uri": "https://localhost:8080/",
          "height": 483
        },
        "id": "3X4-nFUKnkjK",
        "outputId": "4b23ee6f-796b-489c-96a3-bb0d46d1f575"
      },
      "execution_count": 147,
      "outputs": [
        {
          "output_type": "execute_result",
          "data": {
            "text/html": [
              "\n",
              "  <div id=\"df-b05a9d1a-6305-4a25-8495-9054c62782d7\">\n",
              "    <div class=\"colab-df-container\">\n",
              "      <div>\n",
              "<style scoped>\n",
              "    .dataframe tbody tr th:only-of-type {\n",
              "        vertical-align: middle;\n",
              "    }\n",
              "\n",
              "    .dataframe tbody tr th {\n",
              "        vertical-align: top;\n",
              "    }\n",
              "\n",
              "    .dataframe thead th {\n",
              "        text-align: right;\n",
              "    }\n",
              "</style>\n",
              "<table border=\"1\" class=\"dataframe\">\n",
              "  <thead>\n",
              "    <tr style=\"text-align: right;\">\n",
              "      <th></th>\n",
              "      <th>SlogP_VSA7</th>\n",
              "      <th>PEOE_VSA2</th>\n",
              "      <th>SMR_VSA1</th>\n",
              "      <th>PEOE_VSA3</th>\n",
              "      <th>VSA_EState2</th>\n",
              "      <th>EState_VSA2</th>\n",
              "      <th>TPSA</th>\n",
              "      <th>SlogP_VSA10</th>\n",
              "      <th>SMR_VSA7</th>\n",
              "      <th>VSA_EState9</th>\n",
              "      <th>LabuteASA</th>\n",
              "      <th>SMR_VSA2</th>\n",
              "      <th>SMR_VSA5</th>\n",
              "    </tr>\n",
              "  </thead>\n",
              "  <tbody>\n",
              "    <tr>\n",
              "      <th>0</th>\n",
              "      <td>5.022633</td>\n",
              "      <td>4.794537</td>\n",
              "      <td>24.134870</td>\n",
              "      <td>9.184952</td>\n",
              "      <td>27.188493</td>\n",
              "      <td>29.354467</td>\n",
              "      <td>92.00</td>\n",
              "      <td>10.077801</td>\n",
              "      <td>68.215848</td>\n",
              "      <td>1.480846</td>\n",
              "      <td>213.226948</td>\n",
              "      <td>0.000000</td>\n",
              "      <td>39.151780</td>\n",
              "    </tr>\n",
              "    <tr>\n",
              "      <th>1</th>\n",
              "      <td>5.022633</td>\n",
              "      <td>9.694447</td>\n",
              "      <td>33.666270</td>\n",
              "      <td>13.979489</td>\n",
              "      <td>38.358033</td>\n",
              "      <td>41.524801</td>\n",
              "      <td>118.30</td>\n",
              "      <td>14.872339</td>\n",
              "      <td>68.215848</td>\n",
              "      <td>1.421328</td>\n",
              "      <td>216.137073</td>\n",
              "      <td>0.000000</td>\n",
              "      <td>26.310137</td>\n",
              "    </tr>\n",
              "    <tr>\n",
              "      <th>2</th>\n",
              "      <td>5.022633</td>\n",
              "      <td>4.794537</td>\n",
              "      <td>28.871733</td>\n",
              "      <td>9.184952</td>\n",
              "      <td>27.131009</td>\n",
              "      <td>29.354467</td>\n",
              "      <td>101.23</td>\n",
              "      <td>10.077801</td>\n",
              "      <td>68.215848</td>\n",
              "      <td>1.470429</td>\n",
              "      <td>218.340493</td>\n",
              "      <td>0.000000</td>\n",
              "      <td>26.310137</td>\n",
              "    </tr>\n",
              "    <tr>\n",
              "      <th>3</th>\n",
              "      <td>5.022633</td>\n",
              "      <td>4.794537</td>\n",
              "      <td>24.134870</td>\n",
              "      <td>9.184952</td>\n",
              "      <td>27.276732</td>\n",
              "      <td>29.354467</td>\n",
              "      <td>92.00</td>\n",
              "      <td>10.077801</td>\n",
              "      <td>68.215848</td>\n",
              "      <td>1.484318</td>\n",
              "      <td>219.591890</td>\n",
              "      <td>0.000000</td>\n",
              "      <td>45.572602</td>\n",
              "    </tr>\n",
              "    <tr>\n",
              "      <th>4</th>\n",
              "      <td>5.022633</td>\n",
              "      <td>9.589074</td>\n",
              "      <td>28.929407</td>\n",
              "      <td>9.184952</td>\n",
              "      <td>39.134809</td>\n",
              "      <td>40.825098</td>\n",
              "      <td>109.07</td>\n",
              "      <td>10.077801</td>\n",
              "      <td>68.215848</td>\n",
              "      <td>1.441329</td>\n",
              "      <td>223.753412</td>\n",
              "      <td>0.000000</td>\n",
              "      <td>45.572602</td>\n",
              "    </tr>\n",
              "    <tr>\n",
              "      <th>...</th>\n",
              "      <td>...</td>\n",
              "      <td>...</td>\n",
              "      <td>...</td>\n",
              "      <td>...</td>\n",
              "      <td>...</td>\n",
              "      <td>...</td>\n",
              "      <td>...</td>\n",
              "      <td>...</td>\n",
              "      <td>...</td>\n",
              "      <td>...</td>\n",
              "      <td>...</td>\n",
              "      <td>...</td>\n",
              "      <td>...</td>\n",
              "    </tr>\n",
              "    <tr>\n",
              "      <th>99994</th>\n",
              "      <td>0.000000</td>\n",
              "      <td>0.000000</td>\n",
              "      <td>0.000000</td>\n",
              "      <td>0.000000</td>\n",
              "      <td>0.000000</td>\n",
              "      <td>11.332897</td>\n",
              "      <td>0.00</td>\n",
              "      <td>0.000000</td>\n",
              "      <td>0.000000</td>\n",
              "      <td>0.000000</td>\n",
              "      <td>58.652957</td>\n",
              "      <td>0.000000</td>\n",
              "      <td>34.115770</td>\n",
              "    </tr>\n",
              "    <tr>\n",
              "      <th>99995</th>\n",
              "      <td>0.000000</td>\n",
              "      <td>0.000000</td>\n",
              "      <td>0.000000</td>\n",
              "      <td>0.000000</td>\n",
              "      <td>0.000000</td>\n",
              "      <td>5.917906</td>\n",
              "      <td>23.79</td>\n",
              "      <td>0.000000</td>\n",
              "      <td>35.895287</td>\n",
              "      <td>0.000000</td>\n",
              "      <td>72.642862</td>\n",
              "      <td>5.261892</td>\n",
              "      <td>18.759549</td>\n",
              "    </tr>\n",
              "    <tr>\n",
              "      <th>99996</th>\n",
              "      <td>0.000000</td>\n",
              "      <td>0.000000</td>\n",
              "      <td>4.736863</td>\n",
              "      <td>0.000000</td>\n",
              "      <td>0.000000</td>\n",
              "      <td>0.000000</td>\n",
              "      <td>23.79</td>\n",
              "      <td>0.000000</td>\n",
              "      <td>35.895287</td>\n",
              "      <td>0.000000</td>\n",
              "      <td>66.277920</td>\n",
              "      <td>5.261892</td>\n",
              "      <td>12.338728</td>\n",
              "    </tr>\n",
              "    <tr>\n",
              "      <th>99997</th>\n",
              "      <td>0.000000</td>\n",
              "      <td>0.000000</td>\n",
              "      <td>5.106527</td>\n",
              "      <td>0.000000</td>\n",
              "      <td>0.000000</td>\n",
              "      <td>5.414990</td>\n",
              "      <td>21.26</td>\n",
              "      <td>5.687386</td>\n",
              "      <td>23.762553</td>\n",
              "      <td>1.691149</td>\n",
              "      <td>66.183806</td>\n",
              "      <td>0.000000</td>\n",
              "      <td>6.420822</td>\n",
              "    </tr>\n",
              "    <tr>\n",
              "      <th>99998</th>\n",
              "      <td>0.000000</td>\n",
              "      <td>4.794537</td>\n",
              "      <td>9.531400</td>\n",
              "      <td>0.000000</td>\n",
              "      <td>11.340795</td>\n",
              "      <td>17.302202</td>\n",
              "      <td>20.23</td>\n",
              "      <td>0.000000</td>\n",
              "      <td>35.895287</td>\n",
              "      <td>0.000000</td>\n",
              "      <td>73.044516</td>\n",
              "      <td>0.000000</td>\n",
              "      <td>18.759549</td>\n",
              "    </tr>\n",
              "  </tbody>\n",
              "</table>\n",
              "<p>148874 rows × 13 columns</p>\n",
              "</div>\n",
              "      <button class=\"colab-df-convert\" onclick=\"convertToInteractive('df-b05a9d1a-6305-4a25-8495-9054c62782d7')\"\n",
              "              title=\"Convert this dataframe to an interactive table.\"\n",
              "              style=\"display:none;\">\n",
              "        \n",
              "  <svg xmlns=\"http://www.w3.org/2000/svg\" height=\"24px\"viewBox=\"0 0 24 24\"\n",
              "       width=\"24px\">\n",
              "    <path d=\"M0 0h24v24H0V0z\" fill=\"none\"/>\n",
              "    <path d=\"M18.56 5.44l.94 2.06.94-2.06 2.06-.94-2.06-.94-.94-2.06-.94 2.06-2.06.94zm-11 1L8.5 8.5l.94-2.06 2.06-.94-2.06-.94L8.5 2.5l-.94 2.06-2.06.94zm10 10l.94 2.06.94-2.06 2.06-.94-2.06-.94-.94-2.06-.94 2.06-2.06.94z\"/><path d=\"M17.41 7.96l-1.37-1.37c-.4-.4-.92-.59-1.43-.59-.52 0-1.04.2-1.43.59L10.3 9.45l-7.72 7.72c-.78.78-.78 2.05 0 2.83L4 21.41c.39.39.9.59 1.41.59.51 0 1.02-.2 1.41-.59l7.78-7.78 2.81-2.81c.8-.78.8-2.07 0-2.86zM5.41 20L4 18.59l7.72-7.72 1.47 1.35L5.41 20z\"/>\n",
              "  </svg>\n",
              "      </button>\n",
              "      \n",
              "  <style>\n",
              "    .colab-df-container {\n",
              "      display:flex;\n",
              "      flex-wrap:wrap;\n",
              "      gap: 12px;\n",
              "    }\n",
              "\n",
              "    .colab-df-convert {\n",
              "      background-color: #E8F0FE;\n",
              "      border: none;\n",
              "      border-radius: 50%;\n",
              "      cursor: pointer;\n",
              "      display: none;\n",
              "      fill: #1967D2;\n",
              "      height: 32px;\n",
              "      padding: 0 0 0 0;\n",
              "      width: 32px;\n",
              "    }\n",
              "\n",
              "    .colab-df-convert:hover {\n",
              "      background-color: #E2EBFA;\n",
              "      box-shadow: 0px 1px 2px rgba(60, 64, 67, 0.3), 0px 1px 3px 1px rgba(60, 64, 67, 0.15);\n",
              "      fill: #174EA6;\n",
              "    }\n",
              "\n",
              "    [theme=dark] .colab-df-convert {\n",
              "      background-color: #3B4455;\n",
              "      fill: #D2E3FC;\n",
              "    }\n",
              "\n",
              "    [theme=dark] .colab-df-convert:hover {\n",
              "      background-color: #434B5C;\n",
              "      box-shadow: 0px 1px 3px 1px rgba(0, 0, 0, 0.15);\n",
              "      filter: drop-shadow(0px 1px 2px rgba(0, 0, 0, 0.3));\n",
              "      fill: #FFFFFF;\n",
              "    }\n",
              "  </style>\n",
              "\n",
              "      <script>\n",
              "        const buttonEl =\n",
              "          document.querySelector('#df-b05a9d1a-6305-4a25-8495-9054c62782d7 button.colab-df-convert');\n",
              "        buttonEl.style.display =\n",
              "          google.colab.kernel.accessAllowed ? 'block' : 'none';\n",
              "\n",
              "        async function convertToInteractive(key) {\n",
              "          const element = document.querySelector('#df-b05a9d1a-6305-4a25-8495-9054c62782d7');\n",
              "          const dataTable =\n",
              "            await google.colab.kernel.invokeFunction('convertToInteractive',\n",
              "                                                     [key], {});\n",
              "          if (!dataTable) return;\n",
              "\n",
              "          const docLinkHtml = 'Like what you see? Visit the ' +\n",
              "            '<a target=\"_blank\" href=https://colab.research.google.com/notebooks/data_table.ipynb>data table notebook</a>'\n",
              "            + ' to learn more about interactive tables.';\n",
              "          element.innerHTML = '';\n",
              "          dataTable['output_type'] = 'display_data';\n",
              "          await google.colab.output.renderOutput(dataTable, element);\n",
              "          const docLink = document.createElement('div');\n",
              "          docLink.innerHTML = docLinkHtml;\n",
              "          element.appendChild(docLink);\n",
              "        }\n",
              "      </script>\n",
              "    </div>\n",
              "  </div>\n",
              "  "
            ],
            "text/plain": [
              "       SlogP_VSA7  PEOE_VSA2   SMR_VSA1  ...   LabuteASA  SMR_VSA2   SMR_VSA5\n",
              "0        5.022633   4.794537  24.134870  ...  213.226948  0.000000  39.151780\n",
              "1        5.022633   9.694447  33.666270  ...  216.137073  0.000000  26.310137\n",
              "2        5.022633   4.794537  28.871733  ...  218.340493  0.000000  26.310137\n",
              "3        5.022633   4.794537  24.134870  ...  219.591890  0.000000  45.572602\n",
              "4        5.022633   9.589074  28.929407  ...  223.753412  0.000000  45.572602\n",
              "...           ...        ...        ...  ...         ...       ...        ...\n",
              "99994    0.000000   0.000000   0.000000  ...   58.652957  0.000000  34.115770\n",
              "99995    0.000000   0.000000   0.000000  ...   72.642862  5.261892  18.759549\n",
              "99996    0.000000   0.000000   4.736863  ...   66.277920  5.261892  12.338728\n",
              "99997    0.000000   0.000000   5.106527  ...   66.183806  0.000000   6.420822\n",
              "99998    0.000000   4.794537   9.531400  ...   73.044516  0.000000  18.759549\n",
              "\n",
              "[148874 rows x 13 columns]"
            ]
          },
          "metadata": {},
          "execution_count": 147
        }
      ]
    },
    {
      "cell_type": "code",
      "source": [
        "X_max_overlap_13features = X_max_overlap.iloc[:, 0:X_max_overlap.shape[1]-1]"
      ],
      "metadata": {
        "id": "e0l1kwMFo98m"
      },
      "execution_count": 160,
      "outputs": []
    },
    {
      "cell_type": "code",
      "source": [
        "X_max_overlap_13features.shape"
      ],
      "metadata": {
        "colab": {
          "base_uri": "https://localhost:8080/"
        },
        "id": "vokRKaqYpp9s",
        "outputId": "1d97e03f-80ae-4e29-8375-ecf89fccff61"
      },
      "execution_count": 162,
      "outputs": [
        {
          "output_type": "execute_result",
          "data": {
            "text/plain": [
              "(148874, 13)"
            ]
          },
          "metadata": {},
          "execution_count": 162
        }
      ]
    },
    {
      "cell_type": "code",
      "source": [
        "from sklearn.preprocessing import LabelEncoder\n",
        "le = LabelEncoder()\n",
        "Y_label = le.fit_transform(Y)"
      ],
      "metadata": {
        "id": "PvGLQlCsiW6G"
      },
      "execution_count": 138,
      "outputs": []
    },
    {
      "cell_type": "code",
      "source": [
        "sss = StratifiedShuffleSplit(n_splits=1, test_size = 0.25)\n",
        "for train_index, val_index in sss.split(X_max_overlap_13features, Y_label):\n",
        "  train_X= X_max_overlap_13features.iloc[train_index,:]\n",
        "  val_X = X_max_overlap_13features.iloc[val_index,:]\n",
        "  train_Y = Y_label[train_index]\n",
        "  val_Y = Y_label[val_index]"
      ],
      "metadata": {
        "id": "aTyadaT8oxiT"
      },
      "execution_count": 163,
      "outputs": []
    },
    {
      "cell_type": "code",
      "source": [
        "len(train_X)"
      ],
      "metadata": {
        "id": "dlTbDshiqtQm",
        "colab": {
          "base_uri": "https://localhost:8080/"
        },
        "outputId": "6a25b1ef-46b6-4779-8fbb-b99a6e00c006"
      },
      "execution_count": 125,
      "outputs": [
        {
          "output_type": "execute_result",
          "data": {
            "text/plain": [
              "111655"
            ]
          },
          "metadata": {},
          "execution_count": 125
        }
      ]
    },
    {
      "cell_type": "code",
      "source": [
        "len(val_X)"
      ],
      "metadata": {
        "id": "VBe48_CgrHFI",
        "colab": {
          "base_uri": "https://localhost:8080/"
        },
        "outputId": "72750a53-e79d-4a2e-ba37-10b8ebc7ee25"
      },
      "execution_count": 126,
      "outputs": [
        {
          "output_type": "execute_result",
          "data": {
            "text/plain": [
              "37219"
            ]
          },
          "metadata": {},
          "execution_count": 126
        }
      ]
    },
    {
      "cell_type": "markdown",
      "source": [
        "##Logistic Regression"
      ],
      "metadata": {
        "id": "Z9yPnY-Cx2J7"
      }
    },
    {
      "cell_type": "code",
      "source": [
        "logreg = LogisticRegression()"
      ],
      "metadata": {
        "id": "yR_-xmdHrINk"
      },
      "execution_count": 164,
      "outputs": []
    },
    {
      "cell_type": "code",
      "source": [
        "logreg.fit(train_X,train_Y)"
      ],
      "metadata": {
        "id": "AVEdZt_zrSc1",
        "colab": {
          "base_uri": "https://localhost:8080/"
        },
        "outputId": "4d3635cd-3cd2-4ce8-d133-1c96a32fbf08"
      },
      "execution_count": 165,
      "outputs": [
        {
          "output_type": "execute_result",
          "data": {
            "text/plain": [
              "LogisticRegression()"
            ]
          },
          "metadata": {},
          "execution_count": 165
        }
      ]
    },
    {
      "cell_type": "code",
      "source": [
        "pred_Y=logreg.predict(val_X)"
      ],
      "metadata": {
        "id": "QCDSaPnlrahq"
      },
      "execution_count": 166,
      "outputs": []
    },
    {
      "cell_type": "code",
      "source": [
        "cnf_matrix = metrics.confusion_matrix(val_Y, pred_Y)\n",
        "cnf_matrix"
      ],
      "metadata": {
        "colab": {
          "base_uri": "https://localhost:8080/"
        },
        "id": "FB25obDGroLc",
        "outputId": "cc72c441-e956-486d-f53c-62d3582eee5b"
      },
      "execution_count": 167,
      "outputs": [
        {
          "output_type": "execute_result",
          "data": {
            "text/plain": [
              "array([[25000,     0],\n",
              "       [    0, 12219]])"
            ]
          },
          "metadata": {},
          "execution_count": 167
        }
      ]
    },
    {
      "cell_type": "code",
      "source": [
        "print(\"Accuracy:\",metrics.accuracy_score(val_Y, pred_Y))"
      ],
      "metadata": {
        "colab": {
          "base_uri": "https://localhost:8080/"
        },
        "id": "V0mKW6BlrzNF",
        "outputId": "8910007d-b2e6-443f-9b23-1478f16b0b9f"
      },
      "execution_count": 168,
      "outputs": [
        {
          "output_type": "stream",
          "name": "stdout",
          "text": [
            "Accuracy: 1.0\n"
          ]
        }
      ]
    },
    {
      "cell_type": "code",
      "source": [
        "X.describe"
      ],
      "metadata": {
        "id": "Liil3zEAsB8S"
      },
      "execution_count": null,
      "outputs": []
    },
    {
      "cell_type": "markdown",
      "source": [
        "##Deep Learning"
      ],
      "metadata": {
        "id": "jpX1yQ9Ax5mY"
      }
    },
    {
      "cell_type": "code",
      "source": [
        "import pandas\n",
        "from keras.models import Sequential\n",
        "from keras.layers import Dense"
      ],
      "metadata": {
        "id": "sshMls01wkYl"
      },
      "execution_count": 154,
      "outputs": []
    },
    {
      "cell_type": "code",
      "source": [
        "encoder = LabelEncoder()\n",
        "encoder.fit(Y)\n",
        "encoded_Y = encoder.transform(Y)"
      ],
      "metadata": {
        "id": "nkul3YZdyB1z"
      },
      "execution_count": null,
      "outputs": []
    },
    {
      "cell_type": "code",
      "source": [
        "model = Sequential()\n",
        "model.add(Dense(28, input_dim=13, activation='relu'))\n",
        "model.add(Dense(9, activation='relu'))\n",
        "model.add(Dense(1, activation='sigmoid'))\n",
        "model.compile(loss='binary_crossentropy', optimizer='adam', metrics=['accuracy'])"
      ],
      "metadata": {
        "id": "vdJ5ylEdyT-9"
      },
      "execution_count": 155,
      "outputs": []
    },
    {
      "cell_type": "code",
      "source": [
        "history = model.fit(train_X, train_Y, epochs = 5, verbose=2)"
      ],
      "metadata": {
        "colab": {
          "base_uri": "https://localhost:8080/"
        },
        "id": "DLppD9nNDjR8",
        "outputId": "8106fec0-0a86-4940-f9a7-c7fa554fba73"
      },
      "execution_count": 156,
      "outputs": [
        {
          "output_type": "stream",
          "name": "stdout",
          "text": [
            "Epoch 1/5\n",
            "3490/3490 - 8s - loss: 0.3288 - accuracy: 0.8702 - 8s/epoch - 2ms/step\n",
            "Epoch 2/5\n",
            "3490/3490 - 5s - loss: 0.1976 - accuracy: 0.9204 - 5s/epoch - 1ms/step\n",
            "Epoch 3/5\n",
            "3490/3490 - 5s - loss: 0.1766 - accuracy: 0.9300 - 5s/epoch - 1ms/step\n",
            "Epoch 4/5\n",
            "3490/3490 - 5s - loss: 0.1666 - accuracy: 0.9346 - 5s/epoch - 1ms/step\n",
            "Epoch 5/5\n",
            "3490/3490 - 5s - loss: 0.1598 - accuracy: 0.9372 - 5s/epoch - 1ms/step\n"
          ]
        }
      ]
    },
    {
      "cell_type": "code",
      "source": [
        "_, acc = model.evaluate(val_X, val_Y)"
      ],
      "metadata": {
        "colab": {
          "base_uri": "https://localhost:8080/"
        },
        "id": "uA65ECVJy6iw",
        "outputId": "4fd3e684-fd8d-4f75-f98f-35614ed6291c"
      },
      "execution_count": null,
      "outputs": [
        {
          "output_type": "stream",
          "name": "stdout",
          "text": [
            "2327/2327 [==============================] - 4s 2ms/step - loss: 7.2591e-09 - accuracy: 1.0000\n"
          ]
        }
      ]
    },
    {
      "cell_type": "code",
      "source": [
        "history.history['val_accuracy']"
      ],
      "metadata": {
        "colab": {
          "base_uri": "https://localhost:8080/"
        },
        "id": "IFrsIg3YzSby",
        "outputId": "0e8df7eb-09ce-4e5b-986c-8ecbe4b004dc"
      },
      "execution_count": null,
      "outputs": [
        {
          "output_type": "execute_result",
          "data": {
            "text/plain": [
              "[1.0, 1.0, 1.0, 1.0, 1.0]"
            ]
          },
          "metadata": {},
          "execution_count": 97
        }
      ]
    },
    {
      "cell_type": "code",
      "source": [
        "history.history['accuracy']"
      ],
      "metadata": {
        "id": "ERC7J65szT9E",
        "colab": {
          "base_uri": "https://localhost:8080/"
        },
        "outputId": "c72d8875-34e2-4e2e-ea2f-bf27515663fd"
      },
      "execution_count": null,
      "outputs": [
        {
          "output_type": "execute_result",
          "data": {
            "text/plain": [
              "[1.0, 1.0, 1.0, 1.0, 1.0]"
            ]
          },
          "metadata": {},
          "execution_count": 98
        }
      ]
    },
    {
      "cell_type": "code",
      "source": [
        ""
      ],
      "metadata": {
        "id": "iawwxebVENGP"
      },
      "execution_count": null,
      "outputs": []
    }
  ]
}
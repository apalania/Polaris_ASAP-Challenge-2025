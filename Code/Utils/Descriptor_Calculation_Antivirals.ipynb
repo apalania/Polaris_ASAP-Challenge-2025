{
  "cells": [
    {
      "cell_type": "code",
      "execution_count": null,
      "id": "285c3989-0af3-48c9-8d1c-329b8a02f4f8",
      "metadata": {
        "colab": {
          "base_uri": "https://localhost:8080/"
        },
        "id": "285c3989-0af3-48c9-8d1c-329b8a02f4f8",
        "outputId": "13c5c865-3c37-4f71-cd44-5333c602112f"
      },
      "outputs": [
        {
          "output_type": "stream",
          "name": "stdout",
          "text": [
            "Requirement already satisfied: mordred in /usr/local/lib/python3.7/dist-packages (1.2.0)\n",
            "Requirement already satisfied: six==1.* in /usr/local/lib/python3.7/dist-packages (from mordred) (1.15.0)\n",
            "Requirement already satisfied: numpy==1.* in /usr/local/lib/python3.7/dist-packages (from mordred) (1.19.5)\n",
            "Requirement already satisfied: networkx==2.* in /usr/local/lib/python3.7/dist-packages (from mordred) (2.6.3)\n"
          ]
        }
      ],
      "source": [
        "pip install mordred"
      ]
    },
    {
      "cell_type": "code",
      "execution_count": null,
      "id": "92a5ceb1-fec0-46b5-a662-015665ff8721",
      "metadata": {
        "colab": {
          "base_uri": "https://localhost:8080/"
        },
        "id": "92a5ceb1-fec0-46b5-a662-015665ff8721",
        "outputId": "01fd9518-0043-44be-acf3-ce4a58e24a94"
      },
      "outputs": [
        {
          "output_type": "stream",
          "name": "stdout",
          "text": [
            "Requirement already satisfied: rdkit-pypi in /usr/local/lib/python3.7/dist-packages (2021.9.3)\n",
            "Requirement already satisfied: numpy>=1.19 in /usr/local/lib/python3.7/dist-packages (from rdkit-pypi) (1.19.5)\n"
          ]
        }
      ],
      "source": [
        "!pip install rdkit-pypi"
      ]
    },
    {
      "cell_type": "code",
      "execution_count": null,
      "id": "f19910d2-ec9c-447a-8a0f-28c05c7b7a30",
      "metadata": {
        "id": "f19910d2-ec9c-447a-8a0f-28c05c7b7a30"
      },
      "outputs": [],
      "source": [
        "from rdkit import Chem\n",
        "from rdkit import rdBase\n",
        "from rdkit.Chem.Draw import IPythonConsole\n",
        "from rdkit.Chem import Draw\n",
        "from rdkit.Chem import PandasTools\n",
        "from rdkit.Chem import AllChem, PandasTools, Descriptors, rdMolDescriptors, GraphDescriptors\n",
        "import pandas as pd\n",
        "import os\n",
        "from rdkit import RDConfig\n",
        "import numpy as np\n",
        "import pandas.io.formats.html"
      ]
    },
    {
      "cell_type": "code",
      "execution_count": null,
      "id": "16244bb8-f6e0-4223-b8c4-e2ae2c2de10f",
      "metadata": {
        "colab": {
          "base_uri": "https://localhost:8080/"
        },
        "id": "16244bb8-f6e0-4223-b8c4-e2ae2c2de10f",
        "outputId": "7f820946-4508-4e28-d3b4-27fea9d3d7cc"
      },
      "outputs": [
        {
          "output_type": "stream",
          "name": "stdout",
          "text": [
            "Drive already mounted at /content/drive/; to attempt to forcibly remount, call drive.mount(\"/content/drive/\", force_remount=True).\n"
          ]
        }
      ],
      "source": [
        "from google.colab import drive\n",
        "drive.mount('/content/drive/')\n",
        "#reading antivirals dataset\n"
      ]
    },
    {
      "cell_type": "code",
      "execution_count": null,
      "id": "bb7b0bf1-2b30-411e-a534-682697878401",
      "metadata": {
        "id": "bb7b0bf1-2b30-411e-a534-682697878401"
      },
      "outputs": [],
      "source": [
        "sdfFile_antivirals = \"<filename.sdf>\"\n",
        "#loading sdf file into pandas DF\n",
        "frame_antivirals = PandasTools.LoadSDF(sdfFile_antivirals,smilesName='SMILES',molColName='Molecule',includeFingerprints=True)"
      ]
    },
    {
      "cell_type": "code",
      "execution_count": null,
      "id": "a430f294-1656-4a23-b238-d9d3e661033d",
      "metadata": {
        "id": "a430f294-1656-4a23-b238-d9d3e661033d"
      },
      "outputs": [],
      "source": [
        "descriptors_AV = pd.DataFrame()"
      ]
    },
    {
      "cell_type": "code",
      "execution_count": null,
      "id": "bdc566cb-2e93-4dca-9c2e-6f086b53ce13",
      "metadata": {
        "id": "bdc566cb-2e93-4dca-9c2e-6f086b53ce13"
      },
      "outputs": [],
      "source": [
        "descriptors_AV['smiles'] = frame_antivirals['SMILES'].values.tolist()"
      ]
    },
    {
      "cell_type": "code",
      "execution_count": null,
      "id": "5ac28487-644c-4577-b4e3-80e63579b4b5",
      "metadata": {
        "colab": {
          "base_uri": "https://localhost:8080/"
        },
        "id": "5ac28487-644c-4577-b4e3-80e63579b4b5",
        "outputId": "f6c2792d-1d80-4f13-b976-841ae0d7a23a"
      },
      "outputs": [
        {
          "output_type": "stream",
          "name": "stdout",
          "text": [
            "                                              smiles\n",
            "0  COc1cc2c(cc1Cc1cc(N3CCCC3=O)cc(Cl)c1F)c(=O)c(C...\n",
            "1  COc1cc2c(cc1Cc1cc(N3CCCC3)cc(Cl)c1F)c(=O)c(C(=...\n",
            "2  COc1cc2c(cc1Cc1cc(N3CCOC3=O)cc(Cl)c1F)c(=O)c(C...\n",
            "3  COc1cc2c(cc1Cc1cc(N3CCOCC3)cc(Cl)c1F)c(=O)c(C(...\n",
            "4  COc1cc2c(cc1Cc1cc(N3CCCCC3)cc(Cl)c1F)c(=O)c(C(... 2 (48876, 1) 48876 Index(['smiles'], dtype='object')\n"
          ]
        }
      ],
      "source": [
        "print(descriptors_AV.head(), descriptors_AV.ndim, descriptors_AV.shape, descriptors_AV.size,descriptors_AV.columns)\n",
        "#print(frame_antivirals.head(), frame_antivirals.ndim, frame_antivirals.shape, frame_antivirals.size, frame_antivirals.columns)\n",
        "from mordred import Calculator, descriptors"
      ]
    },
    {
      "cell_type": "code",
      "execution_count": null,
      "id": "e8307832-0261-4e44-9a4b-89358fc93603",
      "metadata": {
        "id": "e8307832-0261-4e44-9a4b-89358fc93603"
      },
      "outputs": [],
      "source": [
        "calc = Calculator(descriptors)\n",
        "#print(calc)"
      ]
    },
    {
      "cell_type": "code",
      "execution_count": null,
      "id": "d41b64df-8fae-4ac0-b1e7-0ea2f86487e3",
      "metadata": {
        "colab": {
          "base_uri": "https://localhost:8080/"
        },
        "id": "d41b64df-8fae-4ac0-b1e7-0ea2f86487e3",
        "outputId": "4c108688-5bb6-4f37-c0c5-63b2135672aa"
      },
      "outputs": [
        {
          "output_type": "stream",
          "name": "stderr",
          "text": [
            "/usr/local/lib/python3.7/dist-packages/numpy/core/fromnumeric.py:87: RuntimeWarning: overflow encountered in reduce\n",
            "  return ufunc.reduce(obj, axis, dtype, out, **passkwargs)\n",
            "RDKit WARNING: [08:30:20] WARNING: not removing hydrogen atom without neighbors\n",
            "RDKit WARNING: [08:30:20] WARNING: not removing hydrogen atom without neighbors\n",
            "RDKit WARNING: [08:30:20] WARNING: not removing hydrogen atom without neighbors\n",
            "RDKit WARNING: [08:30:20] WARNING: not removing hydrogen atom without neighbors\n"
          ]
        }
      ],
      "source": [
        "result = pd.DataFrame()\n",
        "dictionary_AV=[]\n",
        "for i in range(len(descriptors_AV)):\n",
        "    #print(i)\n",
        "    #print(\"\\n\")\n",
        "    result[i] = (calc(Chem.MolFromSmiles(descriptors_AV.loc[i,'smiles'])))\n",
        "    #print(calc(Chem.MolFromSmiles(descriptors_AV.loc[i,'smiles'])))\n",
        "    #print(result.items())\n",
        "    #print(dict(result[0]))\n",
        "    dictionary_AV.append(dict(result))\n",
        "    #print(\"\\n\")\n",
        "    #print(type(result))"
      ]
    },
    {
      "cell_type": "code",
      "execution_count": null,
      "id": "102189a1-678d-4f51-8f68-bc66116b47f1",
      "metadata": {
        "id": "102189a1-678d-4f51-8f68-bc66116b47f1"
      },
      "outputs": [],
      "source": [
        "import pickle\n",
        "with open(\"/content/drive/My Drive/outfile.dat\", 'wb') as f:\n",
        "  pickle.dump(dictionary_AV,f)"
      ]
    },
    {
      "cell_type": "code",
      "execution_count": null,
      "id": "382f4b88-fcf1-459c-8b84-5660b54c06fd",
      "metadata": {
        "id": "382f4b88-fcf1-459c-8b84-5660b54c06fd"
      },
      "outputs": [],
      "source": [
        "data_items = dictionary_AV.keys(),dictionary_AV.values()\n",
        "\n",
        "data_list = list(data_items)\n",
        "\n",
        "df = pd.DataFrame(data_list)"
      ]
    },
    {
      "cell_type": "code",
      "execution_count": null,
      "id": "0bf2a3b6-596c-4fd2-945f-b9f6f15defe8",
      "metadata": {
        "id": "0bf2a3b6-596c-4fd2-945f-b9f6f15defe8"
      },
      "outputs": [],
      "source": [
        "result_new = pd.DataFrame"
      ]
    },
    {
      "cell_type": "code",
      "execution_count": null,
      "id": "13be8520-650a-44d0-96e6-9ce22d0dd901",
      "metadata": {
        "id": "13be8520-650a-44d0-96e6-9ce22d0dd901"
      },
      "outputs": [],
      "source": [
        "result_new = result.transpose().copy(deep=True)"
      ]
    },
    {
      "cell_type": "code",
      "execution_count": null,
      "id": "1cacae14-32d1-4a28-ab18-2d6f954a5824",
      "metadata": {
        "id": "1cacae14-32d1-4a28-ab18-2d6f954a5824"
      },
      "outputs": [],
      "source": [
        "result_new"
      ]
    },
    {
      "cell_type": "code",
      "execution_count": null,
      "id": "5371269b-58f8-411b-9474-1805f7656b86",
      "metadata": {
        "id": "5371269b-58f8-411b-9474-1805f7656b86"
      },
      "outputs": [],
      "source": [
        "col_names = df.head(1).values.tolist()\n",
        "col_list=[]\n",
        "for i in range(len(5)):\n",
        "    print(col_names[0][i])\n",
        "    with open(\"descriptors_names.txt\",'a') as f:\n",
        "        f.write(str(col_names[0][i]))\n",
        "        f.write(\"\\n\")"
      ]
    },
    {
      "cell_type": "code",
      "execution_count": null,
      "id": "fe5c55a7-2bc8-4d10-903e-39bd383e0dd0",
      "metadata": {
        "id": "fe5c55a7-2bc8-4d10-903e-39bd383e0dd0"
      },
      "outputs": [],
      "source": [
        "column_names_file = open(\"descriptors_names.txt\",\"r\")"
      ]
    },
    {
      "cell_type": "code",
      "execution_count": null,
      "id": "10d3bb1b-2347-4148-bcf9-619370d747c5",
      "metadata": {
        "id": "10d3bb1b-2347-4148-bcf9-619370d747c5"
      },
      "outputs": [],
      "source": [
        "read_columns_file=column_names_file.readlines()"
      ]
    },
    {
      "cell_type": "code",
      "execution_count": null,
      "id": "75b58067-3b33-4c26-a369-6235c701bd1f",
      "metadata": {
        "id": "75b58067-3b33-4c26-a369-6235c701bd1f"
      },
      "outputs": [],
      "source": [
        "column_names = []\n",
        "for line in read_columns_file:\n",
        "\n",
        "    line = line.strip()\n",
        "    column_names.append(line)"
      ]
    },
    {
      "cell_type": "code",
      "execution_count": null,
      "id": "c4c30400-a45e-4090-be30-cf8f8d77147c",
      "metadata": {
        "id": "c4c30400-a45e-4090-be30-cf8f8d77147c"
      },
      "outputs": [],
      "source": [
        "result_new.iloc[0] = column_names"
      ]
    },
    {
      "cell_type": "code",
      "execution_count": null,
      "id": "57245c34-dbf6-4df3-a5d4-d9616c98942d",
      "metadata": {
        "id": "57245c34-dbf6-4df3-a5d4-d9616c98942d"
      },
      "outputs": [],
      "source": [
        "result_new"
      ]
    }
  ],
  "metadata": {
    "kernelspec": {
      "display_name": "Python 3 (ipykernel)",
      "language": "python",
      "name": "python3"
    },
    "language_info": {
      "codemirror_mode": {
        "name": "ipython",
        "version": 3
      },
      "file_extension": ".py",
      "mimetype": "text/x-python",
      "name": "python",
      "nbconvert_exporter": "python",
      "pygments_lexer": "ipython3",
      "version": "3.9.7"
    },
    "colab": {
      "provenance": []
    }
  },
  "nbformat": 4,
  "nbformat_minor": 5
}
{
  "cells": [
    {
      "cell_type": "code",
      "execution_count": null,
      "id": "438b258d-29a1-4773-8de8-04abeea5ffa0",
      "metadata": {
        "id": "438b258d-29a1-4773-8de8-04abeea5ffa0"
      },
      "outputs": [],
      "source": [
        "!pip install rdkit-pypi"
      ]
    },
    {
      "cell_type": "code",
      "execution_count": null,
      "id": "5e176a83-5e10-4a4a-b8d4-779799d38f6d",
      "metadata": {
        "id": "5e176a83-5e10-4a4a-b8d4-779799d38f6d"
      },
      "outputs": [],
      "source": [
        "from rdkit import Chem\n",
        "from rdkit import rdBase\n",
        "\n",
        "from rdkit.Chem.Draw import IPythonConsole\n",
        "from rdkit.Chem import Draw\n",
        "from rdkit.Chem import PandasTools\n",
        "from rdkit.Chem import AllChem, PandasTools, Descriptors, rdMolDescriptors, GraphDescriptors\n",
        "import pandas as pd\n",
        "import os\n",
        "from rdkit import RDConfig\n",
        "import numpy as np\n",
        "import pandas.io.formats.html\n",
        "\n",
        "from rdkit.ML.Descriptors.Descriptors import DescriptorCalculator\n",
        "from rdkit.ML.Descriptors.MoleculeDescriptors import MolecularDescriptorCalculator"
      ]
    },
    {
      "cell_type": "code",
      "execution_count": null,
      "id": "ad799bf9-e94b-413c-8a9a-dcc9b6f4ee2d",
      "metadata": {
        "id": "ad799bf9-e94b-413c-8a9a-dcc9b6f4ee2d"
      },
      "outputs": [],
      "source": [
        "from google.colab import drive\n",
        "drive.mount('/content/drive')"
      ]
    },
    {
      "cell_type": "code",
      "execution_count": null,
      "id": "d5434c2c-ba20-4108-af72-81e6c24ad200",
      "metadata": {
        "id": "d5434c2c-ba20-4108-af72-81e6c24ad200"
      },
      "outputs": [],
      "source": [
        "chemprop = pd.read_csv(\"/content/drive/MyDrive/DeepLearn4DrugDesign/Data/chemprop_final.csv\",low_memory=False)"
      ]
    },
    {
      "cell_type": "code",
      "execution_count": null,
      "id": "b3787fc2-ae63-4c63-b181-b025dbee7fd2",
      "metadata": {
        "id": "b3787fc2-ae63-4c63-b181-b025dbee7fd2"
      },
      "outputs": [],
      "source": [
        "descriptors_NAV = pd.DataFrame()"
      ]
    },
    {
      "cell_type": "code",
      "execution_count": null,
      "id": "5f745038-5620-42a6-aa1f-421fbb6b6713",
      "metadata": {
        "id": "5f745038-5620-42a6-aa1f-421fbb6b6713"
      },
      "outputs": [],
      "source": [
        "descriptors_NAV['SMILES'] = chemprop['isosmiles'].values.tolist()"
      ]
    },
    {
      "cell_type": "code",
      "execution_count": null,
      "id": "4e0ced1f-b0de-4d99-aa36-87f73571f123",
      "metadata": {
        "id": "4e0ced1f-b0de-4d99-aa36-87f73571f123"
      },
      "outputs": [],
      "source": [
        "#descriptors calculation for non-antivirals\n",
        "desc_list_new = ['SlogP_VSA2']\n",
        "result_new = pd.DataFrame()\n",
        "calculator = MolecularDescriptorCalculator(desc_list_new)\n",
        "for i in range(len(descriptors_NAV)):\n",
        "    descriptors_new = calculator.CalcDescriptors(Chem.MolFromSmiles(descriptors_NAV.loc[i,'SMILES']))\n",
        "    result_new[i] = descriptors_new\n",
        "    #print(descriptors)\n",
        ""
      ]
    },
    {
      "cell_type": "code",
      "execution_count": null,
      "id": "af02c206-b242-4a12-b65a-3decc9ada11f",
      "metadata": {
        "id": "af02c206-b242-4a12-b65a-3decc9ada11f"
      },
      "outputs": [],
      "source": [
        "result_new"
      ]
    }
  ],
  "metadata": {
    "kernelspec": {
      "display_name": "Python 3 (ipykernel)",
      "language": "python",
      "name": "python3"
    },
    "language_info": {
      "codemirror_mode": {
        "name": "ipython",
        "version": 3
      },
      "file_extension": ".py",
      "mimetype": "text/x-python",
      "name": "python",
      "nbconvert_exporter": "python",
      "pygments_lexer": "ipython3",
      "version": "3.9.7"
    },
    "colab": {
      "provenance": []
    }
  },
  "nbformat": 4,
  "nbformat_minor": 5
}
{
  "cells": [
    {
      "cell_type": "code",
      "execution_count": null,
      "metadata": {
        "colab": {
          "base_uri": "https://localhost:8080/"
        },
        "id": "2YNWncjCfoVE",
        "outputId": "6553f3c5-6803-4dd7-9799-8b85849fb40e"
      },
      "outputs": [
        {
          "name": "stdout",
          "output_type": "stream",
          "text": [
            "Requirement already satisfied: pandas in /usr/local/lib/python3.11/dist-packages (2.2.2)\n",
            "Requirement already satisfied: requests in /usr/local/lib/python3.11/dist-packages (2.32.3)\n",
            "Requirement already satisfied: tqdm in /usr/local/lib/python3.11/dist-packages (4.67.1)\n",
            "\u001b[31mERROR: Could not find a version that satisfies the requirement concurrent.futures (from versions: none)\u001b[0m\u001b[31m\n",
            "\u001b[0m\u001b[31mERROR: No matching distribution found for concurrent.futures\u001b[0m\u001b[31m\n",
            "\u001b[0m"
          ]
        }
      ],
      "source": [
        "!pip install pandas requests tqdm concurrent.futures\n"
      ]
    },
    {
      "cell_type": "code",
      "source": [
        "import pandas as pd\n",
        "import requests\n",
        "import time\n",
        "\n",
        "def get_uniprot_accessions(target_chembl_ids):\n",
        "    uniprot_accessions = {}\n",
        "    for target_id in target_chembl_ids:\n",
        "        # Query ChEMBL API to get UniProt accessions\n",
        "        url = f\"https://www.ebi.ac.uk/chembl/api/data/target/{target_id}.json\"\n",
        "        response = requests.get(url)\n",
        "        if response.status_code == 200:\n",
        "            data = response.json()\n",
        "            for component in data['target_components']:\n",
        "                if 'accession' in component:\n",
        "                    uniprot_accession = component['accession']\n",
        "                    uniprot_accessions[target_id] = uniprot_accession\n",
        "                    break  # Assuming one accession per target\n",
        "        else:\n",
        "            print(f\"Failed to retrieve UniProt accession for {target_id}\")\n",
        "            uniprot_accessions[target_id] = \"No UniProt accession found\"\n",
        "    return uniprot_accessions\n",
        "\n",
        "def get_sequence(accession):\n",
        "    url = f\"https://rest.uniprot.org/uniprot/{accession}.fasta\"\n",
        "    response = requests.get(url)\n",
        "    if response.status_code == 200:\n",
        "        return response.text\n",
        "    else:\n",
        "        print(f\"Failed to retrieve sequence for accession {accession}\")\n",
        "        return \"Sequence not available\"\n",
        "\n",
        "def extract_sequence(fasta_text):\n",
        "    lines = fasta_text.splitlines()\n",
        "    sequence = ''.join([line for line in lines if not line.startswith('>')])\n",
        "    return sequence\n",
        "\n",
        "def main(csv_file):\n",
        "    # Load CSV file\n",
        "    df = pd.read_csv(csv_file)\n",
        "\n",
        "    # Extract Target ChEMBL IDs\n",
        "    target_chembl_ids = df['target_chembl_id'].unique().tolist()\n",
        "\n",
        "    # Retrieve UniProt accessions\n",
        "    uniprot_accessions = get_uniprot_accessions(target_chembl_ids)\n",
        "\n",
        "    # Create a dictionary mapping target IDs to sequences\n",
        "    sequences = {}\n",
        "    for target_id, accession in uniprot_accessions.items():\n",
        "        if accession and accession != \"No UniProt accession found\":\n",
        "            try:\n",
        "                sequence_text = get_sequence(accession)\n",
        "                sequence = extract_sequence(sequence_text)\n",
        "                sequences[target_id] = sequence\n",
        "            except Exception as e:\n",
        "                print(f\"Error fetching sequence for {target_id} with accession {accession}: {e}\")\n",
        "                sequences[target_id] = \"Sequence not available\"\n",
        "        else:\n",
        "            sequences[target_id] = \"No UniProt accession or sequence available\"\n",
        "\n",
        "    # Add new columns to the DataFrame\n",
        "    df['uniprot_accession'] = df['target_chembl_id'].map(uniprot_accessions)\n",
        "    df['protein_sequence'] = df['target_chembl_id'].map(sequences)\n",
        "\n",
        "    # Save the updated DataFrame to the CSV file\n",
        "    df.to_csv('updated_compounds.csv', index=False)\n",
        "\n",
        "if __name__ == \"__main__\":\n",
        "    csv_file = \"/content/cleaned_file.csv\"\n",
        "    main(csv_file)\n"
      ],
      "metadata": {
        "colab": {
          "base_uri": "https://localhost:8080/"
        },
        "id": "3WSmkMMBUe8x",
        "outputId": "82ef2057-d684-4208-ea73-a001987b6fee"
      },
      "execution_count": null,
      "outputs": [
        {
          "output_type": "stream",
          "name": "stdout",
          "text": [
            "Failed to retrieve sequence for accession ENSG00000284190\n"
          ]
        }
      ]
    }
  ],
  "metadata": {
    "colab": {
      "provenance": []
    },
    "kernelspec": {
      "display_name": "Python 3",
      "name": "python3"
    },
    "language_info": {
      "name": "python"
    }
  },
  "nbformat": 4,
  "nbformat_minor": 0
}